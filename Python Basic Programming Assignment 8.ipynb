{
 "cells": [
  {
   "cell_type": "markdown",
   "id": "fc183717-8170-4bc4-9fa9-88b8abf5c328",
   "metadata": {},
   "source": [
    "# Python Basic Programming Assignment 8"
   ]
  },
  {
   "cell_type": "markdown",
   "id": "5fc3b4bb-a326-4cf5-abef-d3902c7dd76b",
   "metadata": {},
   "source": [
    "1. Write a Python Program to Add Two Matrices?"
   ]
  },
  {
   "cell_type": "code",
   "execution_count": 1,
   "id": "2e622883-d02f-4711-8b57-c567a1083a57",
   "metadata": {},
   "outputs": [
    {
     "name": "stdout",
     "output_type": "stream",
     "text": [
      "[5, 14, 13]\n",
      "[12, 13, 24]\n",
      "[17, 18, 9]\n"
     ]
    }
   ],
   "source": [
    "x = [[2, 5, 8], [3, 8, 2], [7, 9, 4]]\n",
    "y = [[3, 9, 5], [9, 5, 22], [10, 9, 5]]\n",
    "\n",
    "# Initialize the sum matrix with zeros\n",
    "sum_matrix = [[0 for _ in range(len(x[0]))] for _ in range(len(x))]\n",
    "\n",
    "# Perform matrix addition\n",
    "for i in range(len(x)):\n",
    "    for j in range(len(x[0])):\n",
    "        sum_matrix[i][j] = x[i][j] + y[i][j]\n",
    "\n",
    "# Print the resulting sum matrix\n",
    "for row in sum_matrix:\n",
    "    print(row)"
   ]
  },
  {
   "cell_type": "code",
   "execution_count": null,
   "id": "5d366222-e402-4dd0-bf72-081d94ae184d",
   "metadata": {},
   "outputs": [],
   "source": []
  },
  {
   "cell_type": "markdown",
   "id": "0bf9d211-6765-4380-9792-3719cd859a7a",
   "metadata": {},
   "source": [
    "2. Write a Python Program to Multiply Two Matrices?"
   ]
  },
  {
   "cell_type": "code",
   "execution_count": 2,
   "id": "58090758-879d-4bb9-9227-ea86ce387443",
   "metadata": {},
   "outputs": [
    {
     "name": "stdout",
     "output_type": "stream",
     "text": [
      "[19, 22]\n",
      "[43, 50]\n"
     ]
    }
   ],
   "source": [
    "A = [[1, 2], [3, 4]]\n",
    "B = [[5, 6], [7, 8]]\n",
    "\n",
    "# Matrix multiplication\n",
    "result = [[sum(a * b for a, b in zip(row, col)) for col in zip(*B)] for row in A]\n",
    "\n",
    "# Print result\n",
    "for row in result:\n",
    "    print(row)"
   ]
  },
  {
   "cell_type": "code",
   "execution_count": null,
   "id": "acc36456-63f8-46ba-a35a-60d44eb95c6e",
   "metadata": {},
   "outputs": [],
   "source": []
  },
  {
   "cell_type": "markdown",
   "id": "980e7540-f7f7-403d-8fb6-34bf22ca39f9",
   "metadata": {},
   "source": [
    "3.Write a Python Program to Transpose a Matrix?"
   ]
  },
  {
   "cell_type": "code",
   "execution_count": 11,
   "id": "b2484e81-d247-40b3-84ce-636ecd6bb05e",
   "metadata": {},
   "outputs": [
    {
     "name": "stdout",
     "output_type": "stream",
     "text": [
      "[1, 4, 7]\n",
      "[2, 5, 8]\n",
      "[3, 6, 9]\n"
     ]
    }
   ],
   "source": [
    "matrix = [\n",
    "    [1, 2, 3],\n",
    "    [4, 5, 6],\n",
    "    [7, 8, 9]\n",
    "]\n",
    "\n",
    "# Transpose the matrix\n",
    "transpose = [[matrix[j][i] \n",
    "              for j in range(len(matrix))] \n",
    "             for i in range(len(matrix[0]))]\n",
    "\n",
    "# Print the transposed matrix\n",
    "for row in transpose:\n",
    "    print(row)"
   ]
  },
  {
   "cell_type": "code",
   "execution_count": null,
   "id": "86da451d-4e76-401c-93b8-11fa76f42c67",
   "metadata": {},
   "outputs": [],
   "source": []
  },
  {
   "cell_type": "markdown",
   "id": "530dea8d-aff8-4bbc-9e71-18b1df125bdb",
   "metadata": {},
   "source": [
    "4. Write a Python Program to Sort Words in Alphabetic Order?"
   ]
  },
  {
   "cell_type": "code",
   "execution_count": 14,
   "id": "34599b2a-581c-4583-9c62-1226ab14ced7",
   "metadata": {},
   "outputs": [
    {
     "name": "stdin",
     "output_type": "stream",
     "text": [
      "Enter a sentence:  banana apple cherry\n"
     ]
    },
    {
     "name": "stdout",
     "output_type": "stream",
     "text": [
      "Sorted words:\n",
      "apple banana cherry\n"
     ]
    }
   ],
   "source": [
    "\n",
    "# Input a string of words\n",
    "sentence = input(\"Enter a sentence: \")\n",
    "\n",
    "# Split the sentence into words\n",
    "words = sentence.split()\n",
    "\n",
    "# Sort the words in alphabetical order\n",
    "words.sort()\n",
    "\n",
    "# Print the sorted words\n",
    "print(\"Sorted words:\")\n",
    "print(\" \".join(words))"
   ]
  },
  {
   "cell_type": "markdown",
   "id": "4beb0111-91c6-4e01-a10f-e7222d91576c",
   "metadata": {},
   "source": [
    "5. Write a Python Program to Remove Punctuation From a String?"
   ]
  },
  {
   "cell_type": "code",
   "execution_count": 17,
   "id": "6a2ba6ea-556a-494a-980d-166a3d402491",
   "metadata": {},
   "outputs": [
    {
     "name": "stdin",
     "output_type": "stream",
     "text": [
      "Enter a string:  Hello, world! How's everything?\n"
     ]
    },
    {
     "name": "stdout",
     "output_type": "stream",
     "text": [
      "String without punctuation:\n",
      "Hello world Hows everything\n"
     ]
    }
   ],
   "source": [
    "import string\n",
    "\n",
    "# Input a string\n",
    "text = input(\"Enter a string: \")\n",
    "\n",
    "# Remove punctuation\n",
    "text_no_punctuation = text.translate(str.maketrans('', '', string.punctuation))\n",
    "\n",
    "# Print the result\n",
    "print(\"String without punctuation:\")\n",
    "print(text_no_punctuation)"
   ]
  },
  {
   "cell_type": "code",
   "execution_count": null,
   "id": "887a5cc4-584c-4e77-8f68-4e7a46548014",
   "metadata": {},
   "outputs": [],
   "source": []
  },
  {
   "cell_type": "code",
   "execution_count": null,
   "id": "39af191b-e558-4d56-974c-0c845fd3d32a",
   "metadata": {},
   "outputs": [],
   "source": []
  }
 ],
 "metadata": {
  "kernelspec": {
   "display_name": "Python 3 (ipykernel)",
   "language": "python",
   "name": "python3"
  },
  "language_info": {
   "codemirror_mode": {
    "name": "ipython",
    "version": 3
   },
   "file_extension": ".py",
   "mimetype": "text/x-python",
   "name": "python",
   "nbconvert_exporter": "python",
   "pygments_lexer": "ipython3",
   "version": "3.11.7"
  }
 },
 "nbformat": 4,
 "nbformat_minor": 5
}
