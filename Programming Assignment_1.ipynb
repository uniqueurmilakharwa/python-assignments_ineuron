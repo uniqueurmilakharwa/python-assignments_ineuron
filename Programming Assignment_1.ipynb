{
 "cells": [
  {
   "cell_type": "markdown",
   "id": "08ed1834-a677-4bd8-b7e2-3fd153572667",
   "metadata": {},
   "source": [
    "# Programming Assignment_1"
   ]
  },
  {
   "cell_type": "markdown",
   "id": "2bacc41d-fb2e-4f2b-a9eb-e47b86086706",
   "metadata": {
    "jp-MarkdownHeadingCollapsed": true
   },
   "source": [
    "1. Write a Python program to print \"Hello Python\"?\n"
   ]
  },
  {
   "cell_type": "code",
   "execution_count": 4,
   "id": "7c72e8a0-72e2-48d2-b2d8-59ddcb577df1",
   "metadata": {},
   "outputs": [
    {
     "name": "stdout",
     "output_type": "stream",
     "text": [
      "Hello python\n"
     ]
    }
   ],
   "source": [
    "print(\"Hello python\")"
   ]
  },
  {
   "cell_type": "markdown",
   "id": "6ef65b7c-b164-4f03-972b-13efa3b051d8",
   "metadata": {},
   "source": [
    "2. Write a Python program to do arithmetical operations addition and division.?"
   ]
  },
  {
   "cell_type": "code",
   "execution_count": 10,
   "id": "9666cb6e-8325-4e87-947a-3e483afa3b0a",
   "metadata": {},
   "outputs": [
    {
     "name": "stdout",
     "output_type": "stream",
     "text": [
      "20\n",
      "0.2\n"
     ]
    }
   ],
   "source": [
    "# Addition\n",
    "\n",
    "a=15        \n",
    "b=5         \n",
    "c=a+b    \n",
    "print(c)\n",
    "\n",
    "# Division \n",
    "\n",
    "a = 5\n",
    "b = 25\n",
    "print(a/b)\n"
   ]
  },
  {
   "cell_type": "markdown",
   "id": "a38945a9-9ed3-44d9-80ea-bb0df3b4209c",
   "metadata": {},
   "source": [
    "3. Write a Python program to find the area of a triangle?"
   ]
  },
  {
   "cell_type": "code",
   "execution_count": 24,
   "id": "44f47717-73a8-4a59-8543-970cb7241119",
   "metadata": {},
   "outputs": [
    {
     "name": "stdin",
     "output_type": "stream",
     "text": [
      "Enter area of base:  5\n",
      "Enter area of height:  3.5\n"
     ]
    },
    {
     "name": "stdout",
     "output_type": "stream",
     "text": [
      "area of tringle is :  8.75\n"
     ]
    }
   ],
   "source": [
    "b = float(input(\"Enter area of base: \"))\n",
    "            \n",
    "h = float(input(\"Enter area of height: \"))\n",
    "\n",
    "area = 0.5*b*h\n",
    "\n",
    "print(\"area of tringle is : \",area)\n",
    "                "
   ]
  },
  {
   "cell_type": "code",
   "execution_count": null,
   "id": "edf3fca7-72c4-4414-a687-8ab970a7aaf5",
   "metadata": {},
   "outputs": [],
   "source": []
  },
  {
   "cell_type": "markdown",
   "id": "adb07a57-ec92-4849-aea8-d47295d44727",
   "metadata": {},
   "source": [
    "4. Write a Python program to swap two variables?"
   ]
  },
  {
   "cell_type": "code",
   "execution_count": 25,
   "id": "86d7bd47-001c-4ffb-9f74-683d579d0bf8",
   "metadata": {},
   "outputs": [
    {
     "name": "stdout",
     "output_type": "stream",
     "text": [
      "25 7\n",
      "7 25\n"
     ]
    }
   ],
   "source": [
    "x = 25\n",
    "y = 7\n",
    "print(x,y)\n",
    "x,y = y,x\n",
    "print(x,y)"
   ]
  },
  {
   "cell_type": "markdown",
   "id": "b0ee558d-206a-4fdb-a2a4-e812431213c1",
   "metadata": {},
   "source": [
    "5. Write a Python program to generate a random number?"
   ]
  },
  {
   "cell_type": "code",
   "execution_count": 39,
   "id": "30c1a22b-dacc-43ff-a136-9f1344a8486d",
   "metadata": {},
   "outputs": [
    {
     "name": "stdout",
     "output_type": "stream",
     "text": [
      "40\n",
      "7\n"
     ]
    }
   ],
   "source": [
    "import random\n",
    "print(random.randrange(10, 50))\n",
    "\n",
    "Numbers = [0,1,2,3,4,5,6,7,8,9]\n",
    "R = random.choice(Numbers)\n",
    "print(R)"
   ]
  },
  {
   "cell_type": "code",
   "execution_count": null,
   "id": "d613952b-fa69-4ab1-b5f6-06c6392e4d91",
   "metadata": {},
   "outputs": [],
   "source": []
  }
 ],
 "metadata": {
  "kernelspec": {
   "display_name": "Python 3 (ipykernel)",
   "language": "python",
   "name": "python3"
  },
  "language_info": {
   "codemirror_mode": {
    "name": "ipython",
    "version": 3
   },
   "file_extension": ".py",
   "mimetype": "text/x-python",
   "name": "python",
   "nbconvert_exporter": "python",
   "pygments_lexer": "ipython3",
   "version": "3.11.7"
  }
 },
 "nbformat": 4,
 "nbformat_minor": 5
}
