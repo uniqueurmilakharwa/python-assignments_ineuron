{
 "cells": [
  {
   "cell_type": "markdown",
   "id": "96d33409-e4e6-4f08-ab04-bd65c57dd973",
   "metadata": {},
   "source": [
    "# Python Basic Programming Assignment 11\n"
   ]
  },
  {
   "cell_type": "markdown",
   "id": "129f7e00-2ca4-4444-9d4a-ef13d2d0fbdf",
   "metadata": {},
   "source": [
    "#### 1. Write a Python program to find words which are greater than given length k? "
   ]
  },
  {
   "cell_type": "code",
   "execution_count": 1,
   "id": "068527fa-2339-4def-9426-d8e90f7ca519",
   "metadata": {},
   "outputs": [
    {
     "name": "stdout",
     "output_type": "stream",
     "text": [
      "['programming', 'language,']\n"
     ]
    }
   ],
   "source": [
    "text = \"I love python programming language, it's simple and easy thank you python.\"\n",
    "k = 6  # Words that have more than 6 letters should be selected.\n",
    "\n",
    "words = text.split()  # Get list of words\n",
    "output = []\n",
    "\n",
    "for w in words:  # For each word\n",
    "    if len(w.strip(\",.'\")) > k:  # Check if the word length is greater than k ignoring punctuation\n",
    "        output.append(w)  # Push to output list\n",
    "\n",
    "print(output)\n"
   ]
  },
  {
   "cell_type": "code",
   "execution_count": null,
   "id": "662f5266-86ab-482c-9fe4-1cc5d050c9ae",
   "metadata": {},
   "outputs": [],
   "source": []
  },
  {
   "cell_type": "markdown",
   "id": "0679fee0-3312-4e4f-8e0b-1d93e83e75f1",
   "metadata": {},
   "source": [
    "#### 2. Write a Python program for removing i-th character from a string?"
   ]
  },
  {
   "cell_type": "code",
   "execution_count": 2,
   "id": "eb990207-9c60-41fe-9e14-264459f40255",
   "metadata": {},
   "outputs": [
    {
     "name": "stdout",
     "output_type": "stream",
     "text": [
      "urila_karwa\n"
     ]
    }
   ],
   "source": [
    "def remove_ith_char(s, i):\n",
    "    return s[:i] + s[i+1:] if 0 <= i < len(s) else s\n",
    "\n",
    "# Example :\n",
    "print(remove_ith_char(\"urmila_karwa\", 2)) \n"
   ]
  },
  {
   "cell_type": "code",
   "execution_count": null,
   "id": "cf9ddff0-ce62-4a26-854f-4eebd0743b3c",
   "metadata": {},
   "outputs": [],
   "source": []
  },
  {
   "cell_type": "markdown",
   "id": "98b8659f-ef5a-4573-9ef0-cf49b65a515c",
   "metadata": {},
   "source": [
    "#### 3. Write a Python program to split and join a string?"
   ]
  },
  {
   "cell_type": "code",
   "execution_count": 6,
   "id": "acc6b89c-f835-4245-a649-184d55f374b9",
   "metadata": {},
   "outputs": [
    {
     "name": "stdout",
     "output_type": "stream",
     "text": [
      "I-love-my-country\n"
     ]
    }
   ],
   "source": [
    "txt = \"I love my country\"\n",
    "result = \"-\".join(txt.split())\n",
    "print(result)"
   ]
  },
  {
   "cell_type": "code",
   "execution_count": null,
   "id": "479319b2-9ecb-486e-9bbd-37bec0c47441",
   "metadata": {},
   "outputs": [],
   "source": []
  },
  {
   "cell_type": "markdown",
   "id": "349a555c-6df7-4b1e-9478-dff2d98efdaf",
   "metadata": {},
   "source": [
    "#### 4. Write a Python to check if a given string is binary string or not?"
   ]
  },
  {
   "cell_type": "code",
   "execution_count": 2,
   "id": "96a2fca0-4fcc-4495-b02b-6b9e252cd4ec",
   "metadata": {},
   "outputs": [
    {
     "name": "stdout",
     "output_type": "stream",
     "text": [
      "True\n",
      "False\n"
     ]
    }
   ],
   "source": [
    "def is_binary_string(s):\n",
    "    return set(s).issubset({'0', '1'})\n",
    "\n",
    "s1 = \"1101010\"\n",
    "s2 = \"1201010\"\n",
    "\n",
    "print(is_binary_string(s1))  \n",
    "print(is_binary_string(s2))  "
   ]
  },
  {
   "cell_type": "code",
   "execution_count": null,
   "id": "4a6be10c-f2b5-4cef-b9da-a1af562fbc0c",
   "metadata": {},
   "outputs": [],
   "source": []
  },
  {
   "cell_type": "markdown",
   "id": "fb9386c7-02c2-4d68-8bfa-adb923b04da0",
   "metadata": {},
   "source": [
    "#### 5. Write a Python program to find uncommon words from two Strings?\n"
   ]
  },
  {
   "cell_type": "code",
   "execution_count": null,
   "id": "784215cf-7915-48ed-a982-7f33786994f4",
   "metadata": {},
   "outputs": [],
   "source": []
  },
  {
   "cell_type": "code",
   "execution_count": null,
   "id": "bc0ed5fd-fb43-425d-b920-aa60df6e1e4b",
   "metadata": {},
   "outputs": [],
   "source": []
  },
  {
   "cell_type": "markdown",
   "id": "63e58bf6-9669-4665-a825-d20456d47db7",
   "metadata": {},
   "source": [
    "#### 6. Write a Python to find all duplicate characters in string?"
   ]
  },
  {
   "cell_type": "code",
   "execution_count": 33,
   "id": "3eb7fcd0-8a0b-46f1-b545-cb3628c67792",
   "metadata": {},
   "outputs": [
    {
     "name": "stdout",
     "output_type": "stream",
     "text": [
      "['y', 'n', 'u']\n"
     ]
    }
   ],
   "source": [
    "def find_duplicates(s):\n",
    "    return [char for char in set(s) if s.count(char) > 1]\n",
    "\n",
    "\n",
    "test_string = \"honny_bunny\"\n",
    "print(find_duplicates(test_string))  "
   ]
  },
  {
   "cell_type": "code",
   "execution_count": null,
   "id": "41ca2699-394e-4d11-8246-617e62082cd5",
   "metadata": {},
   "outputs": [],
   "source": []
  },
  {
   "cell_type": "markdown",
   "id": "54dd3574-459c-4061-8068-47c87eac4e52",
   "metadata": {},
   "source": [
    "#### 7. Write a Python Program to check if a string contains any special character?"
   ]
  },
  {
   "cell_type": "code",
   "execution_count": 16,
   "id": "180994d6-f524-4897-912b-a3aa2d78c7d6",
   "metadata": {},
   "outputs": [
    {
     "name": "stdout",
     "output_type": "stream",
     "text": [
      "True\n"
     ]
    }
   ],
   "source": [
    "def has_special_characters(s):\n",
    "    for char in s:\n",
    "        if not char.isalnum():  \n",
    "            return True\n",
    "    return False\n",
    "\n",
    "\n",
    "test_string = \"happy!!\"\n",
    "print(has_special_characters(test_string))"
   ]
  }
 ],
 "metadata": {
  "kernelspec": {
   "display_name": "Python 3 (ipykernel)",
   "language": "python",
   "name": "python3"
  },
  "language_info": {
   "codemirror_mode": {
    "name": "ipython",
    "version": 3
   },
   "file_extension": ".py",
   "mimetype": "text/x-python",
   "name": "python",
   "nbconvert_exporter": "python",
   "pygments_lexer": "ipython3",
   "version": "3.11.7"
  }
 },
 "nbformat": 4,
 "nbformat_minor": 5
}
