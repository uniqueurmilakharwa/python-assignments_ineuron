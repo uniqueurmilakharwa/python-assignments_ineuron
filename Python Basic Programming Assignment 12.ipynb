{
 "cells": [
  {
   "cell_type": "markdown",
   "id": "47160fb7-0f41-4cbb-ba17-51588439ef62",
   "metadata": {},
   "source": [
    "# Python Basic Programming Assignment 12.ipynb"
   ]
  },
  {
   "cell_type": "code",
   "execution_count": null,
   "id": "66d5ccb9-007e-4c9f-950a-ad1188e14d8a",
   "metadata": {},
   "outputs": [],
   "source": []
  },
  {
   "cell_type": "markdown",
   "id": "3685a883-fbd0-470e-8ac2-93fde95b3069",
   "metadata": {},
   "source": [
    "#### 1. Write a Python program to Extract Unique values dictionary values?"
   ]
  },
  {
   "cell_type": "code",
   "execution_count": 1,
   "id": "cc703ab2-2060-41d7-8da2-09d51472227a",
   "metadata": {},
   "outputs": [
    {
     "name": "stdout",
     "output_type": "stream",
     "text": [
      "{1, 2, 3, 4, 5}\n"
     ]
    }
   ],
   "source": [
    "# dictionary\n",
    "data = {'a': [1, 2, 3], 'b': [2, 3, 4], 'c': [4, 5]}\n",
    "\n",
    "# Extract unique values\n",
    "unique_values = set(val for sublist in data.values() for val in sublist)\n",
    "\n",
    "print(unique_values)\n"
   ]
  },
  {
   "cell_type": "code",
   "execution_count": null,
   "id": "0db393fa-cc7d-4aa1-a8e2-6da6931a71d7",
   "metadata": {},
   "outputs": [],
   "source": []
  },
  {
   "cell_type": "markdown",
   "id": "2f380a2e-7c17-4d08-b986-140db32d1f60",
   "metadata": {},
   "source": [
    "#### 2. Write a Python program to find the sum of all items in a dictionary?"
   ]
  },
  {
   "cell_type": "code",
   "execution_count": 3,
   "id": "fe4720e9-052e-4056-bfc3-3edc7b980f0e",
   "metadata": {},
   "outputs": [
    {
     "name": "stdout",
     "output_type": "stream",
     "text": [
      "151\n"
     ]
    }
   ],
   "source": [
    "data = {'a': 55, 'b': 20, 'c': 76}\n",
    "print(sum(data.values()))"
   ]
  },
  {
   "cell_type": "code",
   "execution_count": null,
   "id": "57d6ac93-5539-49eb-8fc2-31768664a10e",
   "metadata": {},
   "outputs": [],
   "source": []
  },
  {
   "cell_type": "markdown",
   "id": "a4d8d65b-921d-4f0e-8fe1-01c473639639",
   "metadata": {},
   "source": [
    "#### 3. Write a Python program to Merging two Dictionaries?"
   ]
  },
  {
   "cell_type": "code",
   "execution_count": 6,
   "id": "5ae27b73-33fe-4055-a2ff-d4899922f9e2",
   "metadata": {},
   "outputs": [
    {
     "name": "stdout",
     "output_type": "stream",
     "text": [
      "{'a': 13, 'b': 2, 'c': 9, 'd': 96}\n"
     ]
    }
   ],
   "source": [
    "dict1 = {'a': 13, 'b': 2}\n",
    "dict2 = {'c': 9, 'd': 96}\n",
    "\n",
    "merged_dict = {**dict1, **dict2}\n",
    "print(merged_dict)"
   ]
  },
  {
   "cell_type": "code",
   "execution_count": null,
   "id": "6f67c36f-b287-44d3-af9a-a38cf528f3b5",
   "metadata": {},
   "outputs": [],
   "source": []
  },
  {
   "cell_type": "markdown",
   "id": "3a208740-afe5-480f-96f8-a5af5859bdf3",
   "metadata": {},
   "source": [
    "#### 4. Write a Python program to convert key-values list to flat dictionary?"
   ]
  },
  {
   "cell_type": "code",
   "execution_count": 7,
   "id": "5f96b548-26ed-490b-a0d8-b1c609e3a8ff",
   "metadata": {},
   "outputs": [
    {
     "name": "stdout",
     "output_type": "stream",
     "text": [
      "{'a': 1, 'b': 7, 'c': 19}\n"
     ]
    }
   ],
   "source": [
    "key_value_list = [('a', 1), ('b', 7), ('c', 19)]\n",
    "flat_dict = dict(key_value_list)\n",
    "print(flat_dict)"
   ]
  },
  {
   "cell_type": "code",
   "execution_count": null,
   "id": "66181701-9701-4830-8a95-fff345bce4b2",
   "metadata": {},
   "outputs": [],
   "source": []
  },
  {
   "cell_type": "markdown",
   "id": "8829fdd9-05fd-41ef-b08e-421718285d42",
   "metadata": {},
   "source": [
    "#### 5. Write a Python program to insertion at the beginning in OrderedDict?"
   ]
  },
  {
   "cell_type": "code",
   "execution_count": 1,
   "id": "6cbfee4e-5373-43e8-a648-6e287c7f047b",
   "metadata": {},
   "outputs": [
    {
     "ename": "ModuleNotFoundError",
     "evalue": "No module named 'orderDict'",
     "output_type": "error",
     "traceback": [
      "\u001b[1;31m---------------------------------------------------------------------------\u001b[0m",
      "\u001b[1;31mModuleNotFoundError\u001b[0m                       Traceback (most recent call last)",
      "Cell \u001b[1;32mIn[1], line 1\u001b[0m\n\u001b[1;32m----> 1\u001b[0m \u001b[38;5;28;01mimport\u001b[39;00m \u001b[38;5;21;01morderDict\u001b[39;00m\n",
      "\u001b[1;31mModuleNotFoundError\u001b[0m: No module named 'orderDict'"
     ]
    }
   ],
   "source": [
    "import orderDict"
   ]
  },
  {
   "cell_type": "code",
   "execution_count": 17,
   "id": "c6a22f75-3d85-49e7-adb7-1cba19d6c2ac",
   "metadata": {},
   "outputs": [
    {
     "name": "stdout",
     "output_type": "stream",
     "text": [
      "OrderedDict([('a', 1), ('b', 2), ('c', 3)])\n"
     ]
    }
   ],
   "source": [
    "od = OrderedDict({'b': 2, 'c': 3})\n",
    "\n",
    "# Insert an item at the beginning\n",
    "od.update({'a': 1})\n",
    "od.move_to_end('a', last=False)\n",
    "\n",
    "print(od)"
   ]
  },
  {
   "cell_type": "markdown",
   "id": "739fea73-ff0e-48b5-8b73-b5a124b7bedf",
   "metadata": {},
   "source": [
    "#### 6. Write a Python program to check order of character in string using OrderedDict()?"
   ]
  },
  {
   "cell_type": "code",
   "execution_count": 25,
   "id": "9c0a306a-3c47-4157-a989-ca5711d72710",
   "metadata": {},
   "outputs": [
    {
     "name": "stdout",
     "output_type": "stream",
     "text": [
      "True\n"
     ]
    }
   ],
   "source": [
    "\n",
    "def check_order(s1, s2):\n",
    "    s1_order = OrderedDict.fromkeys(s1)\n",
    "    s2_order = OrderedDict.fromkeys(s2)\n",
    "    return all(char in s2_order for char in s1_order)\n",
    "\n",
    "# Example usage\n",
    "s1 = \"abc\"\n",
    "s2 = \"aebdc\"\n",
    "print(check_order(s1, s2))"
   ]
  },
  {
   "cell_type": "code",
   "execution_count": null,
   "id": "32b6e270-7ee0-4e0d-8ce1-d1ee936bd6dc",
   "metadata": {},
   "outputs": [],
   "source": []
  },
  {
   "cell_type": "markdown",
   "id": "8a77c043-68ae-4336-8b39-911d88d5ae68",
   "metadata": {},
   "source": [
    "#### 7. Write a Python program to sort Python Dictionaries by Key or Value?"
   ]
  },
  {
   "cell_type": "code",
   "execution_count": 26,
   "id": "a24a33da-bc8f-43f7-bf25-ccc2929d4a71",
   "metadata": {},
   "outputs": [
    {
     "name": "stdout",
     "output_type": "stream",
     "text": [
      "Sorted by key: {'apple': 3, 'banana': 1, 'cherry': 2}\n",
      "Sorted by value: {'banana': 1, 'cherry': 2, 'apple': 3}\n"
     ]
    }
   ],
   "source": [
    "data = {'apple': 3, 'banana': 1, 'cherry': 2}\n",
    "\n",
    "# Sort by key\n",
    "sorted_by_key = dict(sorted(data.items()))\n",
    "print(\"Sorted by key:\", sorted_by_key)\n",
    "\n",
    "# Sort by value\n",
    "sorted_by_value = dict(sorted(data.items(), key=lambda item: item[1]))\n",
    "print(\"Sorted by value:\", sorted_by_value)"
   ]
  },
  {
   "cell_type": "code",
   "execution_count": null,
   "id": "33e9fba1-36ad-4ddf-9fc1-7fa6a9f5f358",
   "metadata": {},
   "outputs": [],
   "source": []
  }
 ],
 "metadata": {
  "kernelspec": {
   "display_name": "Python 3 (ipykernel)",
   "language": "python",
   "name": "python3"
  },
  "language_info": {
   "codemirror_mode": {
    "name": "ipython",
    "version": 3
   },
   "file_extension": ".py",
   "mimetype": "text/x-python",
   "name": "python",
   "nbconvert_exporter": "python",
   "pygments_lexer": "ipython3",
   "version": "3.11.7"
  }
 },
 "nbformat": 4,
 "nbformat_minor": 5
}
