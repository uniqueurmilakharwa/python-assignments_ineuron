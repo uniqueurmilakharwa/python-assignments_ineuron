{
 "cells": [
  {
   "cell_type": "markdown",
   "id": "d6e7d0e0-b3b7-4e49-8b74-10ac4bd8414b",
   "metadata": {},
   "source": [
    "# Python Basic Programming Assignment - 15"
   ]
  },
  {
   "cell_type": "code",
   "execution_count": null,
   "id": "d4fa9378-ed4e-434d-9c6e-bfef5097bc25",
   "metadata": {},
   "outputs": [],
   "source": []
  },
  {
   "cell_type": "markdown",
   "id": "74fdc16e-22f2-434d-8b3e-4b7c826e8094",
   "metadata": {},
   "source": [
    "1. Please write a program using generator to print the numbers which can be divisible by 5 and 7 between 0 and n in comma separated form while n is input by console."
   ]
  },
  {
   "cell_type": "code",
   "execution_count": 1,
   "id": "7f659ff3-4157-45bd-b9cd-c71e1ae15250",
   "metadata": {},
   "outputs": [
    {
     "name": "stdin",
     "output_type": "stream",
     "text": [
      "Enter the value of n:  100\n"
     ]
    },
    {
     "name": "stdout",
     "output_type": "stream",
     "text": [
      "0,35,70\n"
     ]
    }
   ],
   "source": [
    "def divisible_by_5_and_7(n):\n",
    "    for i in range(n + 1):\n",
    "        if i % 5 == 0 and i % 7 == 0:\n",
    "            yield i\n",
    "\n",
    "# Input from console\n",
    "n = int(input(\"Enter the value of n: \"))\n",
    "\n",
    "# Generate and print the numbers\n",
    "print(','.join(map(str, divisible_by_5_and_7(n))))\n"
   ]
  },
  {
   "cell_type": "code",
   "execution_count": null,
   "id": "11716c24-fd8c-4fe5-8b3e-02eb31bdbc08",
   "metadata": {},
   "outputs": [],
   "source": []
  },
  {
   "cell_type": "markdown",
   "id": "bf051a9d-da11-42ed-8f67-ff65298c3bbb",
   "metadata": {},
   "source": [
    "\n",
    "2. Please write a program using generator to print the even numbers between 0 and n in comma separated form while n is input by console."
   ]
  },
  {
   "cell_type": "code",
   "execution_count": 2,
   "id": "9a568cbc-f4b2-44d8-bb88-6dff42ff1029",
   "metadata": {},
   "outputs": [
    {
     "name": "stdin",
     "output_type": "stream",
     "text": [
      "Enter the value of n:  10\n"
     ]
    },
    {
     "name": "stdout",
     "output_type": "stream",
     "text": [
      "0,2,4,6,8,10\n"
     ]
    }
   ],
   "source": [
    "def even_numbers(n):\n",
    "    for i in range(0, n + 1, 2):\n",
    "        yield i\n",
    "\n",
    "# Input from console\n",
    "n = int(input(\"Enter the value of n: \"))\n",
    "\n",
    "# Generate and print the even numbers\n",
    "print(','.join(map(str, even_numbers(n))))\n"
   ]
  },
  {
   "cell_type": "code",
   "execution_count": null,
   "id": "18bc3278-6b07-4c21-8409-f1a05cd031b1",
   "metadata": {},
   "outputs": [],
   "source": []
  },
  {
   "cell_type": "markdown",
   "id": "6504d13b-04de-4f7d-9558-69567f9cf397",
   "metadata": {},
   "source": [
    "3. Please write a program using list comprehension to print the Fibonacci Sequence in comma separated form with a given n input by console."
   ]
  },
  {
   "cell_type": "code",
   "execution_count": 3,
   "id": "4044b79c-fe11-49ed-b059-79a80cd0ec35",
   "metadata": {},
   "outputs": [
    {
     "name": "stdin",
     "output_type": "stream",
     "text": [
      "Enter the value of n:  10\n"
     ]
    },
    {
     "name": "stdout",
     "output_type": "stream",
     "text": [
      "0,1,1,2,3,5,8\n"
     ]
    }
   ],
   "source": [
    "def fibonacci(n):\n",
    "    a, b = 0, 1\n",
    "    fib_seq = [a]\n",
    "    while b <= n:\n",
    "        fib_seq.append(b)\n",
    "        a, b = b, a + b\n",
    "    return fib_seq\n",
    "\n",
    "# Input from console\n",
    "n = int(input(\"Enter the value of n: \"))\n",
    "\n",
    "# Generate Fibonacci sequence and print in comma-separated format\n",
    "print(','.join(map(str, fibonacci(n))))"
   ]
  },
  {
   "cell_type": "code",
   "execution_count": null,
   "id": "173da733-8898-482b-a2ee-6fb7d1f4eea3",
   "metadata": {},
   "outputs": [],
   "source": []
  },
  {
   "cell_type": "markdown",
   "id": "b5dfa00a-e514-40c8-b101-a3f49003bd99",
   "metadata": {},
   "source": [
    "4. Assuming that we have some email addresses in the \"username@companyname.com\" format, please write program to print the user name of a given email address. Both user names and company names are composed of letters only."
   ]
  },
  {
   "cell_type": "code",
   "execution_count": 4,
   "id": "3702f9cd-357b-41de-a983-8457c34545ee",
   "metadata": {},
   "outputs": [
    {
     "name": "stdin",
     "output_type": "stream",
     "text": [
      "Enter the email address:  john.doe@example.com\n"
     ]
    },
    {
     "name": "stdout",
     "output_type": "stream",
     "text": [
      "Username: john.doe\n"
     ]
    }
   ],
   "source": [
    "def extract_username(email):\n",
    "    return email.split('@')[0]\n",
    "\n",
    "# Input email address\n",
    "email = input(\"Enter the email address: \")\n",
    "\n",
    "# Extract and print the username\n",
    "print(\"Username:\", extract_username(email))"
   ]
  },
  {
   "cell_type": "code",
   "execution_count": null,
   "id": "dfbc48d4-a72c-4e4c-a4c3-c002359c3a41",
   "metadata": {},
   "outputs": [],
   "source": []
  },
  {
   "cell_type": "markdown",
   "id": "5e2ebdff-7881-4249-b148-67fdbe6026f5",
   "metadata": {},
   "source": [
    "5. Define a class named Shape and its subclass Square. The Square class has an init function which takes a length as argument. Both classes have a area function which can print the area of the shape where Shape's area is 0 by default."
   ]
  },
  {
   "cell_type": "code",
   "execution_count": 5,
   "id": "2763b813-90c6-436f-b290-4450fc8c0065",
   "metadata": {},
   "outputs": [
    {
     "name": "stdout",
     "output_type": "stream",
     "text": [
      "Area: 0\n",
      "Area of Square: 16\n"
     ]
    }
   ],
   "source": [
    "class Shape:\n",
    "    def __init__(self):\n",
    "        self.area = 0\n",
    "\n",
    "    def print_area(self):\n",
    "        print(\"Area:\", self.area)\n",
    "\n",
    "class Square(Shape):\n",
    "    def __init__(self, length):\n",
    "        super().__init__()\n",
    "        self.length = length\n",
    "        self.area = length * length\n",
    "\n",
    "    def print_area(self):\n",
    "        print(\"Area of Square:\", self.area)\n",
    "\n",
    "# Example usage\n",
    "shape = Shape()\n",
    "shape.print_area()  # Output: Area: 0\n",
    "\n",
    "square = Square(4)\n",
    "square.print_area()  # Output: Area of Square: 16\n"
   ]
  }
 ],
 "metadata": {
  "kernelspec": {
   "display_name": "Python 3 (ipykernel)",
   "language": "python",
   "name": "python3"
  },
  "language_info": {
   "codemirror_mode": {
    "name": "ipython",
    "version": 3
   },
   "file_extension": ".py",
   "mimetype": "text/x-python",
   "name": "python",
   "nbconvert_exporter": "python",
   "pygments_lexer": "ipython3",
   "version": "3.11.7"
  }
 },
 "nbformat": 4,
 "nbformat_minor": 5
}
