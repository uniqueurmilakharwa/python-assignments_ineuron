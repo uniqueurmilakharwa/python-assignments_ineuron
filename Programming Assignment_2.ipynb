{
 "cells": [
  {
   "cell_type": "markdown",
   "id": "6321b7e4-25cc-4e01-9847-c753100a5946",
   "metadata": {},
   "source": [
    "# Programming Assignment_2"
   ]
  },
  {
   "cell_type": "markdown",
   "id": "3d645851-e995-4487-b27e-8a1998b51015",
   "metadata": {},
   "source": [
    "1. Write a Python program to convert kilometers to miles?\n"
   ]
  },
  {
   "cell_type": "code",
   "execution_count": 16,
   "id": "0a6b785a-6077-40d7-938c-dd5e6ef92bed",
   "metadata": {},
   "outputs": [
    {
     "name": "stdin",
     "output_type": "stream",
     "text": [
      "Enter your value in kms:  7\n"
     ]
    },
    {
     "name": "stdout",
     "output_type": "stream",
     "text": [
      "7.0 kms in miles be 4.349597 miles\n"
     ]
    }
   ],
   "source": [
    "# Take input from user\n",
    "km = float (input(\"Enter your value in kms: \"))\n",
    "\n",
    "#conversion of km in miles\n",
    "miles = (0.621371)*km\n",
    "\n",
    "# for output\n",
    "print(km, \"kms in miles be\", miles, \"miles\")"
   ]
  },
  {
   "cell_type": "code",
   "execution_count": null,
   "id": "99421db7-66fc-4178-b189-cb0800d85463",
   "metadata": {},
   "outputs": [],
   "source": []
  },
  {
   "cell_type": "markdown",
   "id": "36537d2e-193e-43ce-a53d-e002fc512716",
   "metadata": {},
   "source": [
    "2.Write a Python program to convert Celsius to Fahrenheit?"
   ]
  },
  {
   "cell_type": "code",
   "execution_count": 17,
   "id": "ea12446a-7149-49bb-835a-a64f971dfcf1",
   "metadata": {},
   "outputs": [
    {
     "name": "stdin",
     "output_type": "stream",
     "text": [
      "Enter celcius:  36\n"
     ]
    },
    {
     "name": "stdout",
     "output_type": "stream",
     "text": [
      "96.8\n"
     ]
    }
   ],
   "source": [
    "#take input from user\n",
    "c = float (input(\"Enter celcius: \"))\n",
    "\n",
    "#formula \n",
    "f=(c*1.8)+32\n",
    "\n",
    "#for output result\n",
    "print(f)\n"
   ]
  },
  {
   "cell_type": "code",
   "execution_count": null,
   "id": "4775a8e7-20ed-4213-9030-7f99b607c70a",
   "metadata": {},
   "outputs": [],
   "source": []
  },
  {
   "cell_type": "markdown",
   "id": "5dcaed67-cb34-41a5-8883-3855f8c95f42",
   "metadata": {},
   "source": [
    "3. Write a Python program to display calendar?"
   ]
  },
  {
   "cell_type": "code",
   "execution_count": 25,
   "id": "63208cfc-ea23-44a1-8074-2568cd4277a3",
   "metadata": {},
   "outputs": [
    {
     "name": "stdout",
     "output_type": "stream",
     "text": [
      "    August 2024\n",
      "Mo Tu We Th Fr Sa Su\n",
      "          1  2  3  4\n",
      " 5  6  7  8  9 10 11\n",
      "12 13 14 15 16 17 18\n",
      "19 20 21 22 23 24 25\n",
      "26 27 28 29 30 31\n",
      "\n"
     ]
    }
   ],
   "source": [
    "import calendar\n",
    "\n",
    "year = 2024\n",
    "month = 8\n",
    "print(calendar.month(year, month))"
   ]
  },
  {
   "cell_type": "code",
   "execution_count": null,
   "id": "e32b6b94-3cc6-4c3a-84b0-23590d5ea01e",
   "metadata": {},
   "outputs": [],
   "source": []
  },
  {
   "cell_type": "markdown",
   "id": "b61b692f-90d8-4ac0-b7f9-0c425d84a3f3",
   "metadata": {},
   "source": [
    "4. Write a Python program to solve quadratic equation?"
   ]
  },
  {
   "cell_type": "code",
   "execution_count": 27,
   "id": "d646471a-5712-414b-a658-33108f17be88",
   "metadata": {},
   "outputs": [
    {
     "name": "stdout",
     "output_type": "stream",
     "text": [
      "The solution are (-3+0j) and (-2+0j)\n"
     ]
    }
   ],
   "source": [
    "\n",
    "import cmath\n",
    "\n",
    "a = 1\n",
    "b = 5\n",
    "c = 6\n",
    "\n",
    "# calculate the discriminant\n",
    "d = (b**2) - (4*a*c)\n",
    "\n",
    "# find two solutions\n",
    "sol1 = (-b-cmath.sqrt(d))/(2*a)\n",
    "sol2 = (-b+cmath.sqrt(d))/(2*a)\n",
    "\n",
    "print('The solution are {0} and {1}'.format(sol1,sol2))"
   ]
  },
  {
   "cell_type": "code",
   "execution_count": null,
   "id": "47e602dd-f191-4d28-bd9a-5b11eae33620",
   "metadata": {},
   "outputs": [],
   "source": []
  },
  {
   "cell_type": "markdown",
   "id": "9846987b-bc84-44d9-b5a7-e2077297b91d",
   "metadata": {},
   "source": [
    "5. Write a Python program to swap two variables without temp variable?"
   ]
  },
  {
   "cell_type": "code",
   "execution_count": 25,
   "id": "e41779ad-6f3b-47c8-a73c-e680aece2e5c",
   "metadata": {},
   "outputs": [
    {
     "name": "stdout",
     "output_type": "stream",
     "text": [
      "5 4\n",
      "4 5\n"
     ]
    }
   ],
   "source": [
    "x = 5\n",
    "y = 4\n",
    "print(x,y)\n",
    "x,y = y,x\n",
    "print(x,y)"
   ]
  },
  {
   "cell_type": "code",
   "execution_count": null,
   "id": "1920c8e0-9130-466b-8039-ebc5499fabf5",
   "metadata": {},
   "outputs": [],
   "source": []
  }
 ],
 "metadata": {
  "kernelspec": {
   "display_name": "Python 3 (ipykernel)",
   "language": "python",
   "name": "python3"
  },
  "language_info": {
   "codemirror_mode": {
    "name": "ipython",
    "version": 3
   },
   "file_extension": ".py",
   "mimetype": "text/x-python",
   "name": "python",
   "nbconvert_exporter": "python",
   "pygments_lexer": "ipython3",
   "version": "3.11.7"
  }
 },
 "nbformat": 4,
 "nbformat_minor": 5
}
