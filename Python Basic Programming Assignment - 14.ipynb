{
 "cells": [
  {
   "cell_type": "markdown",
   "id": "a8f80588-ed1f-47b1-92c1-854830afc8bf",
   "metadata": {},
   "source": [
    "# Python Basic Programming Assignment - 14"
   ]
  },
  {
   "cell_type": "code",
   "execution_count": null,
   "id": "4638bc79-421e-4f56-8ef2-e108c5753c49",
   "metadata": {},
   "outputs": [],
   "source": []
  },
  {
   "cell_type": "markdown",
   "id": "0478a46a-6086-486a-9e9c-c0926392618b",
   "metadata": {},
   "source": [
    "1. Define a class with a generator which can iterate the numbers, which are divisible by 7, between a given range 0 and n."
   ]
  },
  {
   "cell_type": "code",
   "execution_count": 2,
   "id": "4e9bd5a5-9fda-4b3a-8de2-c2a45c427271",
   "metadata": {},
   "outputs": [
    {
     "name": "stdout",
     "output_type": "stream",
     "text": [
      "Numbers divisible by 7 from 0 to 50 :\n",
      "0\n",
      "7\n",
      "14\n",
      "21\n",
      "28\n",
      "35\n",
      "42\n",
      "49\n"
     ]
    }
   ],
   "source": [
    "class DivisibleBy7:\n",
    "    def __init__(self, n):\n",
    "        self.n = n\n",
    "\n",
    "    def __iter__(self):\n",
    "        return self.generator()\n",
    "\n",
    "    def generator(self):\n",
    "        for i in range(self.n + 1):\n",
    "            if i % 7 == 0:\n",
    "                yield i\n",
    "\n",
    "n = 50\n",
    "div_by_7 = DivisibleBy7(n)\n",
    "\n",
    "print(\"Numbers divisible by 7 from 0 to\", n, \":\")\n",
    "for number in div_by_7:\n",
    "    print(number)"
   ]
  },
  {
   "cell_type": "code",
   "execution_count": null,
   "id": "3a8e4d6e-bb30-4279-85bf-43a9daf5b0fb",
   "metadata": {},
   "outputs": [],
   "source": []
  },
  {
   "cell_type": "markdown",
   "id": "5c978c4d-bf32-48f7-a354-2125e6e6af36",
   "metadata": {},
   "source": [
    "#### 2. Write a program to compute the frequency of the words from the input. The output should output after sorting the key alphanumerically."
   ]
  },
  {
   "cell_type": "code",
   "execution_count": 3,
   "id": "c1e22f22-6659-4a22-82cd-0338ff4d77cc",
   "metadata": {},
   "outputs": [
    {
     "name": "stdin",
     "output_type": "stream",
     "text": [
      "Enter a sentence:  Hello world! Hello Python. Python is great. Hello world world.\n"
     ]
    },
    {
     "name": "stdout",
     "output_type": "stream",
     "text": [
      "great: 1\n",
      "hello: 3\n",
      "is: 1\n",
      "python: 2\n",
      "world: 3\n"
     ]
    }
   ],
   "source": [
    "from collections import Counter\n",
    "import re\n",
    "\n",
    "def compute_word_frequency(text):\n",
    "    # Split the text into words, removing punctuation and converting to lowercase\n",
    "    words = re.findall(r'\\b\\w+\\b', text.lower())\n",
    "    \n",
    "    # Count the frequency of each word\n",
    "    word_counts = Counter(words)\n",
    "    \n",
    "    # Sort the dictionary by key (word)\n",
    "    sorted_word_counts = dict(sorted(word_counts.items()))\n",
    "    \n",
    "    return sorted_word_counts\n",
    "\n",
    "# Input text\n",
    "text = input(\"Enter a sentence: \")\n",
    "\n",
    "# Compute frequency and print the results\n",
    "frequency = compute_word_frequency(text)\n",
    "for word, count in frequency.items():\n",
    "    print(f\"{word}: {count}\")"
   ]
  },
  {
   "cell_type": "code",
   "execution_count": null,
   "id": "446c428e-2bcd-4679-8b44-92cd4abc0262",
   "metadata": {},
   "outputs": [],
   "source": []
  },
  {
   "cell_type": "markdown",
   "id": "ca7b9722-7342-491a-8cda-982d75d5c5ef",
   "metadata": {},
   "source": [
    "#### 3. Define a class Person and its two child classes: Male and Female. All classes have a method \"getGender\" which can print \"Male\" for Male class and \"Female\" for Female class."
   ]
  },
  {
   "cell_type": "code",
   "execution_count": 4,
   "id": "4203aa91-a266-4050-8c77-ac2e6d039de5",
   "metadata": {},
   "outputs": [
    {
     "name": "stdout",
     "output_type": "stream",
     "text": [
      "great: 1\n",
      "hello: 3\n",
      "is: 1\n",
      "python: 2\n",
      "world: 3\n"
     ]
    }
   ],
   "source": [
    "from collections import Counter\n",
    "import re\n",
    "\n",
    "text = \"Hello world! Hello Python. Python is great. Hello world world.\"\n",
    "words = re.findall(r'\\b\\w+\\b', text.lower())\n",
    "word_counts = Counter(words)\n",
    "sorted_word_counts = dict(sorted(word_counts.items()))\n",
    "\n",
    "for word, count in sorted_word_counts.items():\n",
    "    print(f\"{word}: {count}\")"
   ]
  },
  {
   "cell_type": "code",
   "execution_count": null,
   "id": "7a65decd-f205-4c9b-a1c7-1a601ef22403",
   "metadata": {},
   "outputs": [],
   "source": []
  },
  {
   "cell_type": "markdown",
   "id": "9b313925-2d2e-450d-94b4-c694d8b62511",
   "metadata": {},
   "source": [
    "#### 4. Please write a program to generate all sentences where subject is in [\"I\", \"You\"] and verb is in ['Play', \"Love\"] and the object is in [\"Hockey\",\"Football\"]."
   ]
  },
  {
   "cell_type": "code",
   "execution_count": 5,
   "id": "72e33875-a1d2-42af-943b-557215faab65",
   "metadata": {},
   "outputs": [
    {
     "name": "stdout",
     "output_type": "stream",
     "text": [
      "I Play Hockey\n",
      "I Play Football\n",
      "I Love Hockey\n",
      "I Love Football\n",
      "You Play Hockey\n",
      "You Play Football\n",
      "You Love Hockey\n",
      "You Love Football\n"
     ]
    }
   ],
   "source": [
    "subjects = [\"I\", \"You\"]\n",
    "verbs = [\"Play\", \"Love\"]\n",
    "objects = [\"Hockey\", \"Football\"]\n",
    "\n",
    "# Generate and print all possible sentences\n",
    "sentences = [f\"{subject} {verb} {obj}\" for subject in subjects for verb in verbs for obj in objects]\n",
    "for sentence in sentences:\n",
    "    print(sentence)\n"
   ]
  },
  {
   "cell_type": "code",
   "execution_count": null,
   "id": "5788aa40-a6bc-431d-8589-cf08273ae441",
   "metadata": {},
   "outputs": [],
   "source": []
  },
  {
   "cell_type": "markdown",
   "id": "2f67f374-a145-40e5-97f3-5322815f0a73",
   "metadata": {},
   "source": [
    "#### 5. Please write a program to compress and decompress the string \"hello world!hello world!hello world!hello world!\""
   ]
  },
  {
   "cell_type": "code",
   "execution_count": 6,
   "id": "d5b8a12e-9c00-4147-a144-b7296db2aa4c",
   "metadata": {},
   "outputs": [
    {
     "name": "stdout",
     "output_type": "stream",
     "text": [
      "Compressed: b'x\\x9c\\xcbH\\xcd\\xc9\\xc9W(\\xcf/\\xcaIQ\\xcc \\x82\\r\\x00\\xbd[\\x11\\xf5'\n",
      "Decompressed: hello world!hello world!hello world!hello world!\n"
     ]
    }
   ],
   "source": [
    "import zlib\n",
    "\n",
    "# Original string\n",
    "original_string = \"hello world!hello world!hello world!hello world!\"\n",
    "\n",
    "# Compress the string\n",
    "compressed = zlib.compress(original_string.encode())\n",
    "print(\"Compressed:\", compressed)\n",
    "\n",
    "# Decompress the string\n",
    "decompressed = zlib.decompress(compressed).decode()\n",
    "print(\"Decompressed:\", decompressed)\n"
   ]
  },
  {
   "cell_type": "code",
   "execution_count": null,
   "id": "cef1aded-473d-4675-aace-507717e47b95",
   "metadata": {},
   "outputs": [],
   "source": []
  },
  {
   "cell_type": "markdown",
   "id": "29e7ad6c-a1f6-43ef-a2a9-a958f2bc8ed8",
   "metadata": {},
   "source": [
    "#### 6. Please write a binary search function which searches an item in a sorted list. The function should return the index of element to be searched in the list."
   ]
  },
  {
   "cell_type": "code",
   "execution_count": 7,
   "id": "65358f2e-445c-4051-afdd-7d063a054c5c",
   "metadata": {},
   "outputs": [
    {
     "name": "stdout",
     "output_type": "stream",
     "text": [
      "Index of 7: 3\n"
     ]
    }
   ],
   "source": [
    "def binary_search(sorted_list, target):\n",
    "    left, right = 0, len(sorted_list) - 1\n",
    "    \n",
    "    while left <= right:\n",
    "        mid = (left + right) // 2\n",
    "        if sorted_list[mid] == target:\n",
    "            return mid\n",
    "        elif sorted_list[mid] < target:\n",
    "            left = mid + 1\n",
    "        else:\n",
    "            right = mid - 1\n",
    "    \n",
    "    return -1\n",
    "\n",
    "# Example usage\n",
    "sorted_list = [1, 3, 5, 7, 9, 11]\n",
    "target = 7\n",
    "index = binary_search(sorted_list, target)\n",
    "print(f\"Index of {target}: {index}\")\n"
   ]
  },
  {
   "cell_type": "code",
   "execution_count": null,
   "id": "74ad2a41-9a47-4220-a162-20a286469a8d",
   "metadata": {},
   "outputs": [],
   "source": []
  }
 ],
 "metadata": {
  "kernelspec": {
   "display_name": "Python 3 (ipykernel)",
   "language": "python",
   "name": "python3"
  },
  "language_info": {
   "codemirror_mode": {
    "name": "ipython",
    "version": 3
   },
   "file_extension": ".py",
   "mimetype": "text/x-python",
   "name": "python",
   "nbconvert_exporter": "python",
   "pygments_lexer": "ipython3",
   "version": "3.11.7"
  }
 },
 "nbformat": 4,
 "nbformat_minor": 5
}
