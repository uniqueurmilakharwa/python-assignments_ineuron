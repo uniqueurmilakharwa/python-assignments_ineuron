{
 "cells": [
  {
   "cell_type": "markdown",
   "id": "db685d49-d287-480d-8801-212929ca1dc4",
   "metadata": {},
   "source": [
    "# Python Basic Programming Assignment 10"
   ]
  },
  {
   "cell_type": "markdown",
   "id": "e941897f-ccce-480d-9887-b610364bc338",
   "metadata": {},
   "source": [
    "#### 1. Write a Python program to find sum of elements in list?"
   ]
  },
  {
   "cell_type": "code",
   "execution_count": 1,
   "id": "fc8b2d5f-c5a0-4d06-ab1f-444d0531b7f3",
   "metadata": {},
   "outputs": [
    {
     "name": "stdout",
     "output_type": "stream",
     "text": [
      "Sum of elements: 15\n"
     ]
    }
   ],
   "source": [
    "my_list = [1, 2, 3, 4, 5]\n",
    "total = sum(my_list)\n",
    "print(\"Sum of elements:\", total)"
   ]
  },
  {
   "cell_type": "code",
   "execution_count": null,
   "id": "5b9b9c36-db79-403d-ac33-b562b2ac9561",
   "metadata": {},
   "outputs": [],
   "source": []
  },
  {
   "cell_type": "markdown",
   "id": "d915f9ec-98f6-4c6e-8d48-5219907fbe3a",
   "metadata": {},
   "source": [
    "#### 2. Write a Python program to Multiply all numbers in the list?"
   ]
  },
  {
   "cell_type": "code",
   "execution_count": 5,
   "id": "fe73db5e-53a6-4597-8f84-d7ee460869f0",
   "metadata": {},
   "outputs": [
    {
     "name": "stdout",
     "output_type": "stream",
     "text": [
      "Product of elements: 120\n"
     ]
    }
   ],
   "source": [
    "import math\n",
    "\n",
    "my_list = [1, 2, 3, 4, 5]\n",
    "result = math.prod(my_list)\n",
    "print(\"Product of elements:\", result)\n"
   ]
  },
  {
   "cell_type": "code",
   "execution_count": null,
   "id": "57738227-c061-466d-b8d9-9b8ec80c7233",
   "metadata": {},
   "outputs": [],
   "source": []
  },
  {
   "cell_type": "markdown",
   "id": "c72d0132-0c7d-4e2b-830b-6a3f42609cdc",
   "metadata": {},
   "source": [
    "#### 3. Write a Python program to find smallest number in a list?"
   ]
  },
  {
   "cell_type": "code",
   "execution_count": 9,
   "id": "bd28ec5e-de2b-4490-9f90-0d67792a0f86",
   "metadata": {},
   "outputs": [
    {
     "name": "stdout",
     "output_type": "stream",
     "text": [
      "Smallest number: 4\n"
     ]
    }
   ],
   "source": [
    "my_list = [55, 101, 4, 7, 44, 16]\n",
    "smallest = min(my_list)\n",
    "print(\"Smallest number:\", smallest)\n"
   ]
  },
  {
   "cell_type": "code",
   "execution_count": null,
   "id": "13adaa31-3bff-474b-95c7-68d423158976",
   "metadata": {},
   "outputs": [],
   "source": []
  },
  {
   "cell_type": "markdown",
   "id": "eec987cb-020d-4d63-93c6-a45f4fa7abfa",
   "metadata": {},
   "source": [
    "#### 4. Write a Python program to find largest number in a list?"
   ]
  },
  {
   "cell_type": "code",
   "execution_count": 10,
   "id": "1c1c7a66-cc2b-4397-9bab-9c795319009a",
   "metadata": {},
   "outputs": [
    {
     "name": "stdout",
     "output_type": "stream",
     "text": [
      "Smallest number: 101\n"
     ]
    }
   ],
   "source": [
    "my_list = [55, 101, 4, 7, 44, 16]\n",
    "smallest = max(my_list)\n",
    "print(\"Smallest number:\", smallest)\n"
   ]
  },
  {
   "cell_type": "code",
   "execution_count": null,
   "id": "1bce2cb6-6390-4482-adf8-d62cd88dd980",
   "metadata": {},
   "outputs": [],
   "source": []
  },
  {
   "cell_type": "markdown",
   "id": "8429364f-c1c6-4d9e-8d52-5749cbd745ac",
   "metadata": {},
   "source": [
    "#### 5. Write a Python program to find second largest number in a list?"
   ]
  },
  {
   "cell_type": "code",
   "execution_count": 15,
   "id": "ccbe46f5-2613-48ec-a387-7e859c11890d",
   "metadata": {},
   "outputs": [
    {
     "name": "stdout",
     "output_type": "stream",
     "text": [
      "second largest number: 55\n"
     ]
    }
   ],
   "source": [
    "my_list = [55, 101, 4, 7, 44, 16]\n",
    "my_list.sort()\n",
    "second_largest = my_list[-2]\n",
    "print(\"second largest number:\", second_largest)"
   ]
  },
  {
   "cell_type": "code",
   "execution_count": null,
   "id": "00312949-4297-4fd9-a63b-6dd6538e5a04",
   "metadata": {},
   "outputs": [],
   "source": []
  },
  {
   "cell_type": "markdown",
   "id": "7332b257-13e7-4fd4-aaa7-8b4b07e41031",
   "metadata": {},
   "source": [
    "#### 6. Write a Python program to find N largest elements from a list?"
   ]
  },
  {
   "cell_type": "code",
   "execution_count": 16,
   "id": "b4b2c141-8c19-46ed-8c93-02f060a3ed28",
   "metadata": {},
   "outputs": [
    {
     "name": "stdout",
     "output_type": "stream",
     "text": [
      "3 largest elements: [99, 45, 20]\n"
     ]
    }
   ],
   "source": [
    "import heapq\n",
    "\n",
    "my_list = [10, 20, 4, 45, 99]\n",
    "N = 3\n",
    "largest_elements = heapq.nlargest(N, my_list)\n",
    "print(f\"{N} largest elements:\", largest_elements)\n"
   ]
  },
  {
   "cell_type": "code",
   "execution_count": null,
   "id": "2db4d116-e92e-4bad-9ab8-83b7af8951d7",
   "metadata": {},
   "outputs": [],
   "source": []
  },
  {
   "cell_type": "markdown",
   "id": "cca8721f-e5e0-457a-b04d-b1071cb58bd0",
   "metadata": {},
   "source": [
    "#### 7. Write a Python program to print even numbers in a list?"
   ]
  },
  {
   "cell_type": "code",
   "execution_count": 18,
   "id": "3b09561f-b154-45d2-aa93-3b4e2a9d1146",
   "metadata": {},
   "outputs": [
    {
     "name": "stdout",
     "output_type": "stream",
     "text": [
      "even number: 10\n",
      "even number: 20\n",
      "even number: 4\n"
     ]
    }
   ],
   "source": [
    "my_list = [10, 20, 4, 45, 99]\n",
    "for i in my_list:\n",
    "    if i%2==0:\n",
    "        print(\"even numbers:\",i)"
   ]
  },
  {
   "cell_type": "code",
   "execution_count": null,
   "id": "aa65ce29-1181-4cfd-9384-c388a698f7b5",
   "metadata": {},
   "outputs": [],
   "source": []
  },
  {
   "cell_type": "markdown",
   "id": "dcbf3c18-1843-4476-8365-5551e253749b",
   "metadata": {},
   "source": [
    "#### 8. Write a Python program to print odd numbers in a List?"
   ]
  },
  {
   "cell_type": "code",
   "execution_count": 30,
   "id": "62acc5d3-ffad-45c7-bfd0-88b98efc2f3e",
   "metadata": {},
   "outputs": [
    {
     "name": "stdout",
     "output_type": "stream",
     "text": [
      "Odd number: 45\n",
      "Odd number: 99\n"
     ]
    }
   ],
   "source": [
    "my_list = [10, 20, 4, 45, 99]\n",
    "for a in my_list:\n",
    "    if a % 2 != 0:\n",
    "        print(\"Odd number:\", a)\n"
   ]
  },
  {
   "cell_type": "code",
   "execution_count": null,
   "id": "c784aedb-10db-48c0-bd1f-7a605b8516da",
   "metadata": {},
   "outputs": [],
   "source": []
  },
  {
   "cell_type": "markdown",
   "id": "99f3a2f7-8ff0-45da-9e31-393189de1c5b",
   "metadata": {},
   "source": [
    "#### 9. Write a Python program to Remove empty List from List?"
   ]
  },
  {
   "cell_type": "code",
   "execution_count": 33,
   "id": "ed1edca2-2099-4b8b-a6b2-9c665fcc45e4",
   "metadata": {},
   "outputs": [
    {
     "name": "stdout",
     "output_type": "stream",
     "text": [
      "My_list after Removing empty list: [10, 20, 4, 45, 99]\n"
     ]
    }
   ],
   "source": [
    "my_list = [10, [], 20, [], 4, 45, [], [], 99]\n",
    "b = list(filter(None, my_list))\n",
    "\n",
    "print(\"My_list after Removing empty list:\",b)"
   ]
  },
  {
   "cell_type": "code",
   "execution_count": null,
   "id": "50b95e41-cb6f-4c54-80d3-a1dd020db281",
   "metadata": {},
   "outputs": [],
   "source": []
  },
  {
   "cell_type": "markdown",
   "id": "4bd0acbd-4545-40da-8705-b097ae0bd073",
   "metadata": {},
   "source": [
    "#### 10. Write a Python program to Cloning or Copying a list?"
   ]
  },
  {
   "cell_type": "code",
   "execution_count": 34,
   "id": "4242eb46-02c6-49e5-99b1-a5c50026f6ad",
   "metadata": {},
   "outputs": [
    {
     "name": "stdout",
     "output_type": "stream",
     "text": [
      "copied list: [10, 20, 4, 45, 99]\n"
     ]
    }
   ],
   "source": [
    "original_list = [10, 20, 4, 45, 99]\n",
    "copied_list = original_list.copy()\n",
    "\n",
    "print(\"copied list:\", copied_list)"
   ]
  },
  {
   "cell_type": "code",
   "execution_count": null,
   "id": "e808aadc-d841-4b3b-9f64-1f668feb9ab9",
   "metadata": {},
   "outputs": [],
   "source": []
  },
  {
   "cell_type": "markdown",
   "id": "274c8734-068c-49fa-91de-e08c7c6e18cf",
   "metadata": {},
   "source": [
    "#### 11. Write a Python program to Count occurrences of an element in a list?"
   ]
  },
  {
   "cell_type": "code",
   "execution_count": 39,
   "id": "268c11e4-312d-47c0-9142-3883639ec9ea",
   "metadata": {},
   "outputs": [
    {
     "name": "stdout",
     "output_type": "stream",
     "text": [
      "Occurrences of 99: 3\n"
     ]
    }
   ],
   "source": [
    "my_list = [10, 99, 20, 4, 88, 45, 99, 99,]\n",
    "element = 99\n",
    "count = my_list.count(element)\n",
    "print(f\"Occurrences of {element}:\", count)"
   ]
  },
  {
   "cell_type": "code",
   "execution_count": null,
   "id": "1412f3e4-918a-4655-b28f-2b9ab6fcc75d",
   "metadata": {},
   "outputs": [],
   "source": []
  },
  {
   "cell_type": "code",
   "execution_count": null,
   "id": "459b5cf9-31e1-4b0a-b75d-4aa24b3a935d",
   "metadata": {},
   "outputs": [],
   "source": []
  }
 ],
 "metadata": {
  "kernelspec": {
   "display_name": "Python 3 (ipykernel)",
   "language": "python",
   "name": "python3"
  },
  "language_info": {
   "codemirror_mode": {
    "name": "ipython",
    "version": 3
   },
   "file_extension": ".py",
   "mimetype": "text/x-python",
   "name": "python",
   "nbconvert_exporter": "python",
   "pygments_lexer": "ipython3",
   "version": "3.11.7"
  }
 },
 "nbformat": 4,
 "nbformat_minor": 5
}
