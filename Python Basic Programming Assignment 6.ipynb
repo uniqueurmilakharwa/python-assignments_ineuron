{
 "cells": [
  {
   "cell_type": "markdown",
   "id": "3a05321b-dfc2-4eb3-af2d-5e39ac2db1ef",
   "metadata": {},
   "source": [
    "# Programming Basic Assignment 6"
   ]
  },
  {
   "cell_type": "markdown",
   "id": "2587040e-8ac8-480a-8050-672d83448fbd",
   "metadata": {},
   "source": [
    "1. Write a Python Program to Display Fibonacci Sequence Using Recursion?"
   ]
  },
  {
   "cell_type": "code",
   "execution_count": 5,
   "id": "a4260237-ae5d-4332-ae1e-5380b1381d12",
   "metadata": {},
   "outputs": [
    {
     "name": "stdin",
     "output_type": "stream",
     "text": [
      "enter the number of terms in fibonacci sequance:   4\n"
     ]
    },
    {
     "name": "stdout",
     "output_type": "stream",
     "text": [
      "0\n",
      "1\n",
      "1\n",
      "2\n",
      "3\n"
     ]
    }
   ],
   "source": [
    "def fibonacci(i):\n",
    "    if(i <=1):\n",
    "        return i\n",
    "    else:\n",
    "        return fibonacci(i-1) + fibonacci(i-2)\n",
    "\n",
    "terms =int(input('enter the number of terms in fibonacci sequance:  '))\n",
    "\n",
    "for i in range(0, terms+1):\n",
    "    print(fibonacci(i))"
   ]
  },
  {
   "cell_type": "code",
   "execution_count": null,
   "id": "d2208006-4567-4abd-bf97-3f4f43dc807f",
   "metadata": {},
   "outputs": [],
   "source": []
  },
  {
   "cell_type": "markdown",
   "id": "89656689-e614-402e-88bb-e34674cd3d64",
   "metadata": {},
   "source": [
    "2. Write a Python Program to Find Factorial of Number Using Recursion?"
   ]
  },
  {
   "cell_type": "code",
   "execution_count": 22,
   "id": "6f60ebc2-75fe-4dcf-892d-e965444307d7",
   "metadata": {},
   "outputs": [
    {
     "name": "stdin",
     "output_type": "stream",
     "text": [
      "enter the number:  6\n"
     ]
    },
    {
     "name": "stdout",
     "output_type": "stream",
     "text": [
      "factorial of entered number 6 is 720\n"
     ]
    }
   ],
   "source": [
    "def factorial(x):\n",
    "    if x == 1 or x == 0:\n",
    "        return 1\n",
    "     \n",
    "    return x * factorial(x - 1)\n",
    "\n",
    "number = int(input(\"enter the number: \"))\n",
    "result = factorial(number)\n",
    "print(\"factorial of entered number {} is {}\".format(number, result))\n"
   ]
  },
  {
   "cell_type": "code",
   "execution_count": null,
   "id": "8bf173ac-5782-43e4-b7ab-0511d1a1ba4c",
   "metadata": {},
   "outputs": [],
   "source": []
  },
  {
   "cell_type": "markdown",
   "id": "14145b5f-7c9a-41e5-bb0b-021dd604eb5e",
   "metadata": {},
   "source": [
    "3. Write a Python Program to calculate your Body Mass Index?"
   ]
  },
  {
   "cell_type": "code",
   "execution_count": 76,
   "id": "7046b3d0-f311-44b4-991e-24a715ebc948",
   "metadata": {},
   "outputs": [
    {
     "name": "stdin",
     "output_type": "stream",
     "text": [
      "enter your height in feet:  5\n",
      "enter your weight in kg:  70\n"
     ]
    },
    {
     "name": "stdout",
     "output_type": "stream",
     "text": [
      "Underweight\n"
     ]
    }
   ],
   "source": [
    "h = float(input(\"enter your height in feet: \")) \n",
    "w = float(input(\"enter your weight in kg: \"))\n",
    "\n",
    "x = weight / (height * height)\n",
    "\n",
    "if x < 18.5:\n",
    "    print('Underweight')\n",
    "elif 18.5 <= x < 25:\n",
    "    print(\"Normal weight\")\n",
    "elif 25 <= x < 30:\n",
    "    print('Overweight')\n",
    "else:\n",
    "    print('Obese')\n",
    "\n",
    "\n",
    "\n"
   ]
  },
  {
   "cell_type": "code",
   "execution_count": null,
   "id": "245b0a46-4b8f-4826-86c5-2c109ee67511",
   "metadata": {},
   "outputs": [],
   "source": []
  },
  {
   "cell_type": "markdown",
   "id": "540a3db6-5867-43b6-80a7-ba881521ffd6",
   "metadata": {},
   "source": [
    "4. Write a Python Program to calculate the natural logarithm of any number?"
   ]
  },
  {
   "cell_type": "code",
   "execution_count": 77,
   "id": "4f89f13a-d840-4157-b6c8-626eda8f9038",
   "metadata": {},
   "outputs": [
    {
     "name": "stdin",
     "output_type": "stream",
     "text": [
      "Enter a number:  7\n"
     ]
    },
    {
     "name": "stdout",
     "output_type": "stream",
     "text": [
      "The natural logarithm of 7.0 is 1.9459\n"
     ]
    }
   ],
   "source": [
    "import math\n",
    "\n",
    "number = float(input(\"Enter a number: \"))\n",
    "log_value = math.log(number)\n",
    "\n",
    "print(f\"The natural logarithm of {number} is {log_value:.4f}\")"
   ]
  },
  {
   "cell_type": "code",
   "execution_count": null,
   "id": "2f559103-4e94-478b-ad50-e7d76b7e7381",
   "metadata": {},
   "outputs": [],
   "source": []
  },
  {
   "cell_type": "markdown",
   "id": "2752b219-56f1-4085-b570-b298ff6d6d9c",
   "metadata": {},
   "source": [
    "5. Write a Python Program for cube sum of first n natural numbers?"
   ]
  },
  {
   "cell_type": "code",
   "execution_count": 79,
   "id": "90e33f00-50fc-4d14-a307-16ddc1d8cc65",
   "metadata": {},
   "outputs": [
    {
     "name": "stdin",
     "output_type": "stream",
     "text": [
      "Enter a natural number:  2\n"
     ]
    },
    {
     "name": "stdout",
     "output_type": "stream",
     "text": [
      "The cube sum of the first 2 natural numbers is 9\n"
     ]
    }
   ],
   "source": [
    "n = int(input(\"Enter a natural number: \"))\n",
    "cube_sum = sum(i**3 for i in range(1, n+1))\n",
    "\n",
    "print(f\"The cube sum of the first {n} natural numbers is {cube_sum}\")"
   ]
  },
  {
   "cell_type": "code",
   "execution_count": null,
   "id": "483db998-7ffc-4a5f-b9bd-61acdce7116f",
   "metadata": {},
   "outputs": [],
   "source": []
  },
  {
   "cell_type": "code",
   "execution_count": null,
   "id": "3e4bcd0c-9a3a-4509-be59-692e6133f979",
   "metadata": {},
   "outputs": [],
   "source": []
  }
 ],
 "metadata": {
  "kernelspec": {
   "display_name": "Python 3 (ipykernel)",
   "language": "python",
   "name": "python3"
  },
  "language_info": {
   "codemirror_mode": {
    "name": "ipython",
    "version": 3
   },
   "file_extension": ".py",
   "mimetype": "text/x-python",
   "name": "python",
   "nbconvert_exporter": "python",
   "pygments_lexer": "ipython3",
   "version": "3.11.7"
  }
 },
 "nbformat": 4,
 "nbformat_minor": 5
}
