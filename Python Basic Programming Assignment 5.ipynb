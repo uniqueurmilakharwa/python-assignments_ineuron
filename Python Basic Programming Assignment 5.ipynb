{
 "cells": [
  {
   "cell_type": "markdown",
   "id": "d1921634-eb8e-494b-aea6-ce46867361ee",
   "metadata": {},
   "source": [
    "# Python Basic Programming Assignment - 5"
   ]
  },
  {
   "cell_type": "markdown",
   "id": "aa8fb0f5-4f3b-4171-823d-a9d75a41421e",
   "metadata": {},
   "source": [
    "5. Write a Python Program to Make a Simple Calculator with 4 basic mathematical operations?"
   ]
  },
  {
   "cell_type": "markdown",
   "id": "1037211f-157c-46c8-b502-b349fcfae9b3",
   "metadata": {},
   "source": [
    "1. Write a Python Program to Find LCM?"
   ]
  },
  {
   "cell_type": "code",
   "execution_count": 2,
   "id": "d0783740-ffd9-49ac-ae8d-bd50695753ff",
   "metadata": {},
   "outputs": [
    {
     "name": "stdout",
     "output_type": "stream",
     "text": [
      "The L.C.M. is 24\n"
     ]
    }
   ],
   "source": [
    "import numpy as np\n",
    "\n",
    "num1 = 8\n",
    "num2 = 6\n",
    "x = np.lcm(num1, num2)\n",
    "print(\"The L.C.M. is\", x)\n"
   ]
  },
  {
   "cell_type": "code",
   "execution_count": null,
   "id": "879b3cb0-3c42-4a06-9754-ba42e282b719",
   "metadata": {},
   "outputs": [],
   "source": []
  },
  {
   "cell_type": "markdown",
   "id": "56f9712c-7c4c-4808-a1cd-34898e9b8ca5",
   "metadata": {},
   "source": [
    "2. Write a Python Program to Find HCF?"
   ]
  },
  {
   "cell_type": "code",
   "execution_count": 11,
   "id": "4da5a8d6-333d-4ab9-a527-c215628126d4",
   "metadata": {},
   "outputs": [
    {
     "name": "stdin",
     "output_type": "stream",
     "text": [
      "Enter the first number:  32\n",
      "Enter the second number:  4\n"
     ]
    },
    {
     "name": "stdout",
     "output_type": "stream",
     "text": [
      "HCF of 32 and 4 is 4\n"
     ]
    }
   ],
   "source": [
    "a=num1 = int(input(\"Enter the first number: \"))\n",
    "b=num2 = int(input(\"Enter the second number: \"))\n",
    "\n",
    "while b !=0:\n",
    "    r=a % b\n",
    "    a=b\n",
    "    b=r\n",
    "\n",
    "print(\"HCF of\",num1,'and',num2,'is',a)\n",
    "\n"
   ]
  },
  {
   "cell_type": "code",
   "execution_count": null,
   "id": "a6d14a7c-a1fb-411e-9688-1e08d8033300",
   "metadata": {},
   "outputs": [],
   "source": []
  },
  {
   "cell_type": "markdown",
   "id": "ce9cbd5d-4934-43e8-9e3d-9f625d327b2a",
   "metadata": {},
   "source": [
    "3. Write a Python Program to Convert Decimal to Binary, Octal and Hexadecimal?"
   ]
  },
  {
   "cell_type": "code",
   "execution_count": 14,
   "id": "08b1355b-5d68-4f88-a325-fa00f2476f42",
   "metadata": {},
   "outputs": [
    {
     "name": "stdin",
     "output_type": "stream",
     "text": [
      "enter the decimal no:  6\n"
     ]
    },
    {
     "name": "stdout",
     "output_type": "stream",
     "text": [
      "0b110 is binary\n",
      "0o6 is octal\n",
      "0x6 is hexadecimal\n"
     ]
    }
   ],
   "source": [
    "decimal=int(input(\"enter the decimal no: \"))\n",
    "print(bin(decimal), \"is binary\")\n",
    "print(oct(decimal), \"is octal\")\n",
    "print(hex(decimal), \"is hexadecimal\")"
   ]
  },
  {
   "cell_type": "code",
   "execution_count": null,
   "id": "c051fde3-dfee-4d31-bace-faf0420e98a4",
   "metadata": {},
   "outputs": [],
   "source": []
  },
  {
   "cell_type": "markdown",
   "id": "c22f37fb-f933-4bc4-a227-1edd51885023",
   "metadata": {},
   "source": [
    "4. Write a Python Program To Find ASCII value of a character?"
   ]
  },
  {
   "cell_type": "code",
   "execution_count": 16,
   "id": "c9f87f99-04cd-4122-9fa9-dad5ed231a73",
   "metadata": {},
   "outputs": [
    {
     "name": "stdin",
     "output_type": "stream",
     "text": [
      "enter any character: 7\n"
     ]
    },
    {
     "name": "stdout",
     "output_type": "stream",
     "text": [
      "The ascii value of 7 is:  55\n"
     ]
    }
   ],
   "source": [
    "character = str(input(\"enter any character:\"))\n",
    "ascii = ord(character)\n",
    "\n",
    "print(\"The ascii value of\",character,\"is: \",ascii)"
   ]
  },
  {
   "cell_type": "code",
   "execution_count": null,
   "id": "e5eb04df-8e5d-4270-9fbd-0e20ac54d3a0",
   "metadata": {},
   "outputs": [],
   "source": []
  },
  {
   "cell_type": "markdown",
   "id": "7d5c6530-16af-4ba1-92d3-6ffafb27c9a2",
   "metadata": {},
   "source": [
    "  5. Write a Python Program to Make a Simple Calculator with 4 basic mathematical operations?"
   ]
  },
  {
   "cell_type": "code",
   "execution_count": null,
   "id": "94bee0c0-89af-4040-ba9e-6ceeb2c7efd1",
   "metadata": {},
   "outputs": [],
   "source": []
  },
  {
   "cell_type": "code",
   "execution_count": null,
   "id": "96db6784-b164-4223-b1ad-9ce8e4ce17e5",
   "metadata": {},
   "outputs": [],
   "source": []
  },
  {
   "cell_type": "code",
   "execution_count": null,
   "id": "35ee04a7-558b-42a3-92a6-b86bafa0824b",
   "metadata": {},
   "outputs": [],
   "source": []
  },
  {
   "cell_type": "code",
   "execution_count": null,
   "id": "08d2ddfe-04e7-428d-bc67-c0aa7b9ff408",
   "metadata": {},
   "outputs": [],
   "source": []
  }
 ],
 "metadata": {
  "kernelspec": {
   "display_name": "Python 3 (ipykernel)",
   "language": "python",
   "name": "python3"
  },
  "language_info": {
   "codemirror_mode": {
    "name": "ipython",
    "version": 3
   },
   "file_extension": ".py",
   "mimetype": "text/x-python",
   "name": "python",
   "nbconvert_exporter": "python",
   "pygments_lexer": "ipython3",
   "version": "3.11.7"
  }
 },
 "nbformat": 4,
 "nbformat_minor": 5
}
