{
 "cells": [
  {
   "cell_type": "markdown",
   "id": "f9611e30-392f-4a75-a4db-783a7ad3cf6f",
   "metadata": {},
   "source": [
    "# Python Programming Basic Assignment 13"
   ]
  },
  {
   "cell_type": "code",
   "execution_count": null,
   "id": "a6010e38-d6bb-4a83-8759-225cbae56bbf",
   "metadata": {},
   "outputs": [],
   "source": []
  },
  {
   "cell_type": "markdown",
   "id": "9dc9de91-e2ad-43ba-9dd1-2785fdf3d856",
   "metadata": {},
   "source": [
    "#### 1. Write a program that calculates and prints the value according to the given formula:\n",
    "Q = Square root of [(2 C D)/H]\n",
    "\n",
    "Following are the fixed values of C and H:\n",
    "\n",
    "C is 50. H is 30.\n",
    "\n",
    "D is the variable whose values should be input to your program in a comma-separated sequence.\n",
    "\n",
    "Example\n",
    "\n",
    "Let us assume the following comma separated input sequence is given to the program:\n",
    "\n",
    "100,150,180\n",
    "\n",
    "The output of the program should be:\n",
    "\n",
    "18,22,24"
   ]
  },
  {
   "cell_type": "code",
   "execution_count": 3,
   "id": "f07db985-7b3d-43e6-8dde-1f075d56d88a",
   "metadata": {},
   "outputs": [
    {
     "name": "stdout",
     "output_type": "stream",
     "text": [
      "21,26,28\n"
     ]
    }
   ],
   "source": [
    "import math\n",
    "\n",
    "def calculate_Q(d_values):\n",
    "    C = 60\n",
    "    H = 27\n",
    "    results = []\n",
    "    \n",
    "    for D in d_values:\n",
    "        Q = math.sqrt((2 * C * D) / H)\n",
    "        results.append(int(round(Q)))\n",
    "    \n",
    "    return results\n",
    "\n",
    "# Example input\n",
    "input_sequence = \"100,150,180\"\n",
    "d_values = list(map(int, input_sequence.split(',')))\n",
    "\n",
    "# Calculate and print the results\n",
    "output = calculate_Q(d_values)\n",
    "print(','.join(map(str, output)))"
   ]
  },
  {
   "cell_type": "code",
   "execution_count": null,
   "id": "12167631-aa41-41fd-9090-d2488f9d63e2",
   "metadata": {},
   "outputs": [],
   "source": []
  },
  {
   "cell_type": "markdown",
   "id": "5cee8b5c-201c-48a5-84f7-61cdbb262cb1",
   "metadata": {},
   "source": [
    "#### 2. Write a program which takes 2 digits, X,Y as input and generates a 2-dimensional array. The element value in the i-th row and j-th column of the array should be i*j."
   ]
  },
  {
   "cell_type": "code",
   "execution_count": 12,
   "id": "79ca384e-9a44-45d2-92e7-34ab1807b1cc",
   "metadata": {},
   "outputs": [
    {
     "name": "stdin",
     "output_type": "stream",
     "text": [
      "Enter number of columns (x:  4\n",
      "Enter number of columns (Y):  3\n"
     ]
    },
    {
     "name": "stdout",
     "output_type": "stream",
     "text": [
      "[0, 0, 0]\n",
      "[0, 1, 2]\n",
      "[0, 2, 4]\n",
      "[0, 3, 6]\n"
     ]
    }
   ],
   "source": [
    "def generate_2d_array(x, y):\n",
    "    return [[i * j for j in range(y)] for i in range(x)]\n",
    "\n",
    "X = int(input(\"Enter number of columns (x: \"))\n",
    "Y = int(input(\"Enter number of columns (Y): \"))\n",
    "\n",
    "array = generate_2d_array(X, Y)\n",
    "for row in array:\n",
    "    print(row)"
   ]
  },
  {
   "cell_type": "code",
   "execution_count": null,
   "id": "cf181669-98f6-4b9b-ac1d-e66ef71de70e",
   "metadata": {},
   "outputs": [],
   "source": []
  },
  {
   "cell_type": "markdown",
   "id": "48e561e9-8a6c-4364-bb44-9ad608f13363",
   "metadata": {},
   "source": [
    "#### 3. Write a program that accepts a comma separated sequence of words as input and prints the words in a comma-separated sequence after sorting them alphabetically."
   ]
  },
  {
   "cell_type": "code",
   "execution_count": 9,
   "id": "0fbac275-fc70-4c93-a383-8501f3f3a0fe",
   "metadata": {},
   "outputs": [
    {
     "name": "stdin",
     "output_type": "stream",
     "text": [
      "Enter comma-separated words:  pink,blue,maroon,black\n"
     ]
    },
    {
     "name": "stdout",
     "output_type": "stream",
     "text": [
      "black,blue,maroon,pink\n"
     ]
    }
   ],
   "source": [
    "input_sequence = input(\"Enter comma-separated words: \")\n",
    "\n",
    "# Split the input into a list of words\n",
    "words = [word.strip() for word in input_sequence.split(',')]\n",
    "\n",
    "# Sort the list of words\n",
    "words_sorted = sorted(words)\n",
    "\n",
    "# Print the sorted words in a comma-separated sequence\n",
    "print(','.join(words_sorted))"
   ]
  },
  {
   "cell_type": "code",
   "execution_count": null,
   "id": "c3b5df87-1d7a-4b6d-aced-2a488abcd4f5",
   "metadata": {},
   "outputs": [],
   "source": []
  },
  {
   "cell_type": "markdown",
   "id": "9b002af2-68ff-4dfd-8ff1-c81b54ac7f30",
   "metadata": {},
   "source": [
    "##### 4. Write a program that accepts a sequence of whitespace separated words as input and prints the words after removing all duplicate words and sorting them alphanumerically."
   ]
  },
  {
   "cell_type": "code",
   "execution_count": 10,
   "id": "0798bba1-66a5-4922-88fd-bf021922e55e",
   "metadata": {},
   "outputs": [
    {
     "name": "stdin",
     "output_type": "stream",
     "text": [
      "Enter whitespace-separated words:  pink blue green black purple purple\n"
     ]
    },
    {
     "name": "stdout",
     "output_type": "stream",
     "text": [
      "black blue green pink purple\n"
     ]
    }
   ],
   "source": [
    "input_sequence = input(\"Enter whitespace-separated words: \")\n",
    "\n",
    "# Split the input into a list of words\n",
    "words = input_sequence.split()\n",
    "\n",
    "# Remove duplicates by converting to a set, then sort\n",
    "unique_sorted_words = sorted(set(words))\n",
    "\n",
    "# Print the result\n",
    "print(' '.join(unique_sorted_words))"
   ]
  },
  {
   "cell_type": "code",
   "execution_count": null,
   "id": "c812ed8e-87e6-4341-8f15-460f9a359ded",
   "metadata": {},
   "outputs": [],
   "source": []
  },
  {
   "cell_type": "markdown",
   "id": "79b26838-d3f3-49fa-a548-eba7a3353065",
   "metadata": {},
   "source": [
    "##### 5. Write a program that accepts a sentence and calculate the number of letters and digits."
   ]
  },
  {
   "cell_type": "code",
   "execution_count": 11,
   "id": "a39e7167-49ab-41f8-bfbb-23403dba8275",
   "metadata": {},
   "outputs": [
    {
     "name": "stdin",
     "output_type": "stream",
     "text": [
      "Enter a sentence:  my seat nob is 7890\n"
     ]
    },
    {
     "name": "stdout",
     "output_type": "stream",
     "text": [
      "Letters: 11\n",
      "Digits: 4\n"
     ]
    }
   ],
   "source": [
    "sentence = input(\"Enter a sentence: \")\n",
    "\n",
    "# Initialize counters\n",
    "letters_count = 0\n",
    "digits_count = 0\n",
    "\n",
    "# Count letters and digits\n",
    "for char in sentence:\n",
    "    if char.isalpha():\n",
    "        letters_count += 1\n",
    "    elif char.isdigit():\n",
    "        digits_count += 1\n",
    "\n",
    "# Print the results\n",
    "print(\"Letters:\", letters_count)\n",
    "print(\"Digits:\", digits_count)"
   ]
  },
  {
   "cell_type": "code",
   "execution_count": null,
   "id": "8488b4d5-5cae-4bc4-b0c0-e93b0356be20",
   "metadata": {},
   "outputs": [],
   "source": []
  },
  {
   "cell_type": "markdown",
   "id": "cd790d99-e3d3-470f-a824-18c005d096c5",
   "metadata": {},
   "source": [
    "##### 6. A website requires the users to input username and password to register. Write a program to check the validity of password input by users."
   ]
  },
  {
   "cell_type": "code",
   "execution_count": 13,
   "id": "1797bbab-1cd2-4e4d-a000-3b9431242455",
   "metadata": {},
   "outputs": [],
   "source": [
    "import re"
   ]
  },
  {
   "cell_type": "code",
   "execution_count": 14,
   "id": "482fc82f-70db-4d57-9b66-367e54ec6008",
   "metadata": {},
   "outputs": [
    {
     "name": "stdin",
     "output_type": "stream",
     "text": [
      "Enter a password:  Ilovemyself@987\n"
     ]
    },
    {
     "name": "stdout",
     "output_type": "stream",
     "text": [
      "Password is valid.\n"
     ]
    }
   ],
   "source": [
    "def is_valid_password(password):\n",
    "    # Check the length of the password\n",
    "    if len(password) < 8:\n",
    "        return False\n",
    "    \n",
    "    # Check for uppercase letter\n",
    "    if not re.search(r'[A-Z]', password):\n",
    "        return False\n",
    "    \n",
    "    # Check for lowercase letter\n",
    "    if not re.search(r'[a-z]', password):\n",
    "        return False\n",
    "    \n",
    "    # Check for digit\n",
    "    if not re.search(r'\\d', password):\n",
    "        return False\n",
    "    \n",
    "    # Check for special character\n",
    "    if not re.search(r'[!@#$%^&*(),.?\"{}|<>]', password):\n",
    "        return False\n",
    "    \n",
    "    return True\n",
    "\n",
    "# Input password\n",
    "password = input(\"Enter a password: \")\n",
    "\n",
    "# Check validity\n",
    "if is_valid_password(password):\n",
    "    print(\"Password is valid.\")\n",
    "else:\n",
    "    print(\"Password is invalid. It must be at least 8 characters long, contain both uppercase and lowercase letters, at least one digit, and one special character.\")"
   ]
  },
  {
   "cell_type": "code",
   "execution_count": null,
   "id": "7248d914-d61c-441d-9558-55696f935500",
   "metadata": {},
   "outputs": [],
   "source": []
  },
  {
   "cell_type": "code",
   "execution_count": null,
   "id": "7a9e03ef-7fba-42e0-8455-b4712af2b224",
   "metadata": {},
   "outputs": [],
   "source": []
  },
  {
   "cell_type": "code",
   "execution_count": null,
   "id": "42e91b68-ad31-4166-a109-28801a20888e",
   "metadata": {},
   "outputs": [],
   "source": []
  }
 ],
 "metadata": {
  "kernelspec": {
   "display_name": "Python 3 (ipykernel)",
   "language": "python",
   "name": "python3"
  },
  "language_info": {
   "codemirror_mode": {
    "name": "ipython",
    "version": 3
   },
   "file_extension": ".py",
   "mimetype": "text/x-python",
   "name": "python",
   "nbconvert_exporter": "python",
   "pygments_lexer": "ipython3",
   "version": "3.11.7"
  }
 },
 "nbformat": 4,
 "nbformat_minor": 5
}
