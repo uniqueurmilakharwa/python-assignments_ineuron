{
 "cells": [
  {
   "cell_type": "markdown",
   "id": "e96aa1af-8af0-490d-9f17-f57b7e6361ca",
   "metadata": {},
   "source": [
    "# Programming Basic Assignment 7"
   ]
  },
  {
   "cell_type": "markdown",
   "id": "a47f0d0b-293e-4987-84be-8ce80ba52840",
   "metadata": {},
   "source": [
    "1. Write a Python Program to find sum of array?"
   ]
  },
  {
   "cell_type": "code",
   "execution_count": 1,
   "id": "7febb5ba-396c-4399-bbc7-375edd8e45dc",
   "metadata": {},
   "outputs": [
    {
     "name": "stdin",
     "output_type": "stream",
     "text": [
      "Enter array elements separated by spaces:  1 2 3\n"
     ]
    },
    {
     "name": "stdout",
     "output_type": "stream",
     "text": [
      "The sum of the array is 6\n"
     ]
    }
   ],
   "source": [
    "arr = [int(x) for x in input(\"Enter array elements separated by spaces: \").split()]\n",
    "array_sum = sum(arr)\n",
    "\n",
    "print(f\"The sum of the array is {array_sum}\")"
   ]
  },
  {
   "cell_type": "code",
   "execution_count": null,
   "id": "14f8d2da-b4f3-4f20-9fd2-25a5aa929ab3",
   "metadata": {},
   "outputs": [],
   "source": []
  },
  {
   "cell_type": "markdown",
   "id": "d6504ae1-7186-480a-be72-660793af8f1c",
   "metadata": {},
   "source": [
    "2. Write a Python Program to find largest element in an array?"
   ]
  },
  {
   "cell_type": "code",
   "execution_count": 4,
   "id": "9ff2bf81-dfc7-44dd-8aca-58722972d068",
   "metadata": {},
   "outputs": [
    {
     "name": "stdin",
     "output_type": "stream",
     "text": [
      "Enter array elements separated by spaces:  1 4 7\n"
     ]
    },
    {
     "name": "stdout",
     "output_type": "stream",
     "text": [
      "The largest element in the array is 7\n"
     ]
    }
   ],
   "source": [
    "arr = [int(x) for x in input(\"Enter array elements separated by spaces: \").split()]\n",
    "largest = max(arr)\n",
    "\n",
    "print(f\"The largest element in the array is {largest}\" )"
   ]
  },
  {
   "cell_type": "code",
   "execution_count": null,
   "id": "fd37b6f8-f126-41d1-8d0c-bfc05d312289",
   "metadata": {},
   "outputs": [],
   "source": []
  },
  {
   "cell_type": "markdown",
   "id": "23374745-8a72-4cdc-be7f-3df7b8f3b7cd",
   "metadata": {},
   "source": [
    "3. Write a Python Program for array rotation?"
   ]
  },
  {
   "cell_type": "code",
   "execution_count": 8,
   "id": "818cefb2-8dcd-49d2-a186-a9acb5f49af6",
   "metadata": {},
   "outputs": [
    {
     "name": "stdin",
     "output_type": "stream",
     "text": [
      "Enter array elements separated by spaces:  1 2 3\n",
      "Enter the number of positions to rotate:  076\n"
     ]
    },
    {
     "name": "stdout",
     "output_type": "stream",
     "text": [
      "Rotated array: [3, 1, 2]\n"
     ]
    }
   ],
   "source": [
    "arr = [int(x) for x in input(\"Enter array elements separated by spaces: \").split()]\n",
    "k = int(input(\"Enter the number of positions to rotate: \"))\n",
    "\n",
    "k = k % len(arr)                        # Handle rotation greater than array length\n",
    "rotated_arr = arr[-k:] + arr[:-k]\n",
    "\n",
    "print(\"Rotated array:\", rotated_arr)"
   ]
  },
  {
   "cell_type": "code",
   "execution_count": null,
   "id": "0ab6ecf1-d7ab-4163-874a-fb4817db8036",
   "metadata": {},
   "outputs": [],
   "source": []
  },
  {
   "cell_type": "markdown",
   "id": "d97984ca-56f9-42b7-a389-ab8ee2d2a5ab",
   "metadata": {},
   "source": [
    "4. Write a Python Program to Split the array and add the first part to the end?"
   ]
  },
  {
   "cell_type": "code",
   "execution_count": 10,
   "id": "b7033bf8-040d-43e1-9534-1f219088b7c6",
   "metadata": {},
   "outputs": [
    {
     "name": "stdin",
     "output_type": "stream",
     "text": [
      "Enter array elements separated by spaces:  1 2 3\n",
      "Enter the split index:  987\n"
     ]
    },
    {
     "name": "stdout",
     "output_type": "stream",
     "text": [
      "Array after splitting and adding the first part to the end: [1, 2, 3]\n"
     ]
    }
   ],
   "source": [
    "arr = [int(x) for x in input(\"Enter array elements separated by spaces: \").split()]\n",
    "n = int(input(\"Enter the split index: \"))\n",
    "\n",
    "split_arr = arr[n:] + arr[:n]\n",
    "\n",
    "print(\"Array after splitting and adding the first part to the end:\", split_arr)"
   ]
  },
  {
   "cell_type": "code",
   "execution_count": null,
   "id": "3b587e91-1c27-4585-b731-5bf86bb404c7",
   "metadata": {},
   "outputs": [],
   "source": []
  },
  {
   "cell_type": "markdown",
   "id": "e6cfc6ae-9dca-46cd-a595-e80dcd46a834",
   "metadata": {},
   "source": [
    "5. Write a Python Program to check if given array is Monotonic?"
   ]
  },
  {
   "cell_type": "code",
   "execution_count": 12,
   "id": "66377f78-09c0-4d75-b168-c75a67b1f7d4",
   "metadata": {},
   "outputs": [
    {
     "name": "stdin",
     "output_type": "stream",
     "text": [
      "Enter array elements separated by spaces:  0 9 7\n"
     ]
    },
    {
     "name": "stdout",
     "output_type": "stream",
     "text": [
      "The array is not monotonic\n"
     ]
    }
   ],
   "source": [
    "arr = [int(x) for x in input(\"Enter array elements separated by spaces: \").split()]\n",
    "\n",
    "is_increasing = all(arr[i] <= arr[i+1] for i in range(len(arr) - 1))\n",
    "is_decreasing = all(arr[i] >= arr[i+1] for i in range(len(arr) - 1))\n",
    "\n",
    "if is_increasing or is_decreasing:\n",
    "    print(\"The array is monotonic\")\n",
    "else:\n",
    "    print(\"The array is not monotonic\")"
   ]
  },
  {
   "cell_type": "code",
   "execution_count": null,
   "id": "f158d006-7605-4908-b048-88faf291d0b2",
   "metadata": {},
   "outputs": [],
   "source": []
  }
 ],
 "metadata": {
  "kernelspec": {
   "display_name": "Python 3 (ipykernel)",
   "language": "python",
   "name": "python3"
  },
  "language_info": {
   "codemirror_mode": {
    "name": "ipython",
    "version": 3
   },
   "file_extension": ".py",
   "mimetype": "text/x-python",
   "name": "python",
   "nbconvert_exporter": "python",
   "pygments_lexer": "ipython3",
   "version": "3.11.7"
  }
 },
 "nbformat": 4,
 "nbformat_minor": 5
}
