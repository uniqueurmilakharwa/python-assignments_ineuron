{
 "cells": [
  {
   "cell_type": "markdown",
   "id": "5400b3b8-f900-45f0-858d-abdf11a2a9f6",
   "metadata": {},
   "source": [
    "# Python Basic Programming Assignment 9"
   ]
  },
  {
   "cell_type": "markdown",
   "id": "b69e8c5c-7933-486f-b87f-fca46387cc21",
   "metadata": {},
   "source": [
    "#### 1. Write a Python program to check if the given number is a Disarium Number?"
   ]
  },
  {
   "cell_type": "code",
   "execution_count": 11,
   "id": "3ceb4f00-99d9-48c1-83f4-d73fbc73ee71",
   "metadata": {},
   "outputs": [
    {
     "name": "stdin",
     "output_type": "stream",
     "text": [
      "enter your number:  98\n"
     ]
    },
    {
     "name": "stdout",
     "output_type": "stream",
     "text": [
      "98 is a Disarium Number: False\n"
     ]
    }
   ],
   "source": [
    "def is_disarium(num):\n",
    "    return num == sum(int(digit) ** (idx + 1) for idx, digit in enumerate(str(num)))\n",
    "\n",
    "number = int(input(\"enter your number: \"))\n",
    "print(f\"{number} is a Disarium Number: {is_disarium(number)}\")"
   ]
  },
  {
   "cell_type": "code",
   "execution_count": null,
   "id": "7354f0d1-3c99-4e50-886a-515958e424b5",
   "metadata": {},
   "outputs": [],
   "source": []
  },
  {
   "cell_type": "markdown",
   "id": "7cd3c4c8-b10f-46aa-b410-d2e9728f2d05",
   "metadata": {},
   "source": [
    "#### 2. Write a Python program to print all disarium numbers between 1 to 100?"
   ]
  },
  {
   "cell_type": "code",
   "execution_count": 21,
   "id": "de82fe4c-6989-4b7c-88a6-9f1bfc428431",
   "metadata": {},
   "outputs": [
    {
     "name": "stdout",
     "output_type": "stream",
     "text": [
      "Disarium numbers between 1 and 100: [1, 2, 3, 4, 5, 6, 7, 8, 9, 89]\n"
     ]
    }
   ],
   "source": [
    "def is_disarium(num):\n",
    "    return num == sum(int(digit) ** (idx +1) for idx, digit in enumerate(str(num)))\n",
    "\n",
    "disarium_numbers = [num for num in range(1, 101) if is_disarium(num)]\n",
    "print(\"Disarium numbers between 1 and 100:\", disarium_numbers)"
   ]
  },
  {
   "cell_type": "code",
   "execution_count": null,
   "id": "f9897ee5-b488-4950-b31c-87f34e6815ad",
   "metadata": {},
   "outputs": [],
   "source": []
  },
  {
   "cell_type": "markdown",
   "id": "5113c2b8-8279-46d8-8df9-7499e6b11cd2",
   "metadata": {},
   "source": [
    "#### 3. Write a Python program to check if the given number is Happy Number?"
   ]
  },
  {
   "cell_type": "code",
   "execution_count": 28,
   "id": "338e1a0c-99f5-4ade-89df-a8ebdaa41d5a",
   "metadata": {},
   "outputs": [
    {
     "name": "stdin",
     "output_type": "stream",
     "text": [
      "enter your number:  88\n"
     ]
    },
    {
     "name": "stdout",
     "output_type": "stream",
     "text": [
      "88 is a Happy Number: False\n"
     ]
    }
   ],
   "source": [
    "def is_happy(num):\n",
    "    seen = set()\n",
    "    while num != 1 and num not in seen:\n",
    "        seen.add(num)\n",
    "        num = sum(int(digit) ** 2 for digit in str(num))\n",
    "    return num == 1\n",
    "\n",
    "# Test the function\n",
    "number = int(input(\"enter your number: \"))\n",
    "print(f\"{number} is a Happy Number: {is_happy(number)}\")"
   ]
  },
  {
   "cell_type": "code",
   "execution_count": null,
   "id": "2cf4a22a-5150-4ee8-95f5-a3eb254e2fe6",
   "metadata": {},
   "outputs": [],
   "source": []
  },
  {
   "cell_type": "markdown",
   "id": "e295cd7b-a656-4f6f-b262-8cba915668d8",
   "metadata": {},
   "source": [
    "#### 4. Write a Python program to print all happy numbers between 1 and 100?"
   ]
  },
  {
   "cell_type": "code",
   "execution_count": 29,
   "id": "9eb1f08e-0f46-4961-bcc7-65e52b52be86",
   "metadata": {},
   "outputs": [
    {
     "name": "stdout",
     "output_type": "stream",
     "text": [
      "Happy Numbers between 1 and 100: [1, 7, 10, 13, 19, 23, 28, 31, 32, 44, 49, 68, 70, 79, 82, 86, 91, 94, 97, 100]\n"
     ]
    }
   ],
   "source": [
    "def is_happy(num):\n",
    "    seen = set()\n",
    "    while num != 1 and num not in seen:\n",
    "        seen.add(num)\n",
    "        num = sum(int(digit) ** 2 for digit in str(num))\n",
    "    return num == 1\n",
    "\n",
    "# Print all Happy Numbers between 1 and 100\n",
    "happy_numbers = [num for num in range(1, 101) if is_happy(num)]\n",
    "print(\"Happy Numbers between 1 and 100:\", happy_numbers)"
   ]
  },
  {
   "cell_type": "code",
   "execution_count": null,
   "id": "e40c244f-2e7b-4e3a-8559-482d4bb0772a",
   "metadata": {},
   "outputs": [],
   "source": []
  },
  {
   "cell_type": "markdown",
   "id": "21a78be4-2034-484e-8902-2d6da8aace4e",
   "metadata": {},
   "source": [
    "#### 5. Write a Python program to determine whether the given number is a Harshad Number?"
   ]
  },
  {
   "cell_type": "code",
   "execution_count": 34,
   "id": "3364f0c7-e945-4172-a6de-2f9fd1d2620a",
   "metadata": {},
   "outputs": [
    {
     "name": "stdin",
     "output_type": "stream",
     "text": [
      "enter your numbers:  89\n"
     ]
    },
    {
     "name": "stdout",
     "output_type": "stream",
     "text": [
      "89 is a Harshad Number: False\n"
     ]
    }
   ],
   "source": [
    "def is_harshad(num):\n",
    "    return num % sum(int(digit) for digit in str(num)) == 0\n",
    "\n",
    "# Test the function\n",
    "number = int(input(\"enter your numbers: \")) \n",
    "print(f\"{number} is a Harshad Number: {is_harshad(number)}\")"
   ]
  },
  {
   "cell_type": "code",
   "execution_count": null,
   "id": "e0240f51-ad0d-4246-81a3-6cfae0b46ac7",
   "metadata": {},
   "outputs": [],
   "source": []
  },
  {
   "cell_type": "markdown",
   "id": "81ce1208-e23f-4047-92d1-e8ea30dc6e99",
   "metadata": {},
   "source": [
    "#### 6. Write a Python program to print all pronic numbers between 1 and 100?"
   ]
  },
  {
   "cell_type": "code",
   "execution_count": 35,
   "id": "cf2fefb9-65a1-4ccc-ba32-af7b07b9659e",
   "metadata": {},
   "outputs": [
    {
     "name": "stdout",
     "output_type": "stream",
     "text": [
      "Pronic Numbers between 1 and 100: [2, 6, 12, 20, 30, 42, 56, 72, 90]\n"
     ]
    }
   ],
   "source": [
    "def pronic_numbers(limit):\n",
    "    return [n * (n + 1) for n in range(1, int(limit**0.5) + 1) if n * (n + 1) <= limit]\n",
    "\n",
    "# Print all Pronic Numbers between 1 and 100\n",
    "print(\"Pronic Numbers between 1 and 100:\", pronic_numbers(100))"
   ]
  },
  {
   "cell_type": "code",
   "execution_count": null,
   "id": "ab99c8bc-87b4-40cb-957b-b2cf727a2df5",
   "metadata": {},
   "outputs": [],
   "source": []
  }
 ],
 "metadata": {
  "kernelspec": {
   "display_name": "Python 3 (ipykernel)",
   "language": "python",
   "name": "python3"
  },
  "language_info": {
   "codemirror_mode": {
    "name": "ipython",
    "version": 3
   },
   "file_extension": ".py",
   "mimetype": "text/x-python",
   "name": "python",
   "nbconvert_exporter": "python",
   "pygments_lexer": "ipython3",
   "version": "3.11.7"
  }
 },
 "nbformat": 4,
 "nbformat_minor": 5
}
